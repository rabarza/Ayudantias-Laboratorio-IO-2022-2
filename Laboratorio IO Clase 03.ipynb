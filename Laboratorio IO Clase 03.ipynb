{
 "cells": [
  {
   "cell_type": "markdown",
   "metadata": {},
   "source": [
    "# Numerical Python (numpy): arreglos\n",
    "\n",
    "\n",
    "## Introducción\n",
    "\n",
    "El paquete NumPy (por NUMerical PYthon) provee acceso a una estructura de datos llamada `array` (arreglo), que permite:\n",
    "\n",
    "- operaciones eficientes de manejo de matrices y vectores y\n",
    "- herramientas de álgebra lineal, como por ejemplo resolución de sistemas de ecuaciones, cálculo de valores y vectores propios, etc.\n",
    "\n",
    "\n",
    "### Historia\n",
    "\n",
    "Hay dos implementaciones que entegan aproximadamente la misma funcionalidad que NumPy. Esta son \"Numeric\" y \"numarray\":\n",
    "\n",
    "- Numeric fue el primer módulo que incluía en Python un conjunto de métodos numéricos (similares a Matlab). Evolucionó a partir de una tesis doctoral. \n",
    "\n",
    "- Numarray es una re-implementación de Numeric con ciertas mejoras (pero para nuestros propósitos Numeric y Numarray se comportan de manera virtualmente idéntica)\n",
    "\n",
    "- A comienzos de 2006 se decidió combinar los mejores espectos de Numeric y Numarray en el paquete `scipy` (Scientific Python) y entregar el tipo de datos `array` en el módulo `NumPy`\n",
    "\n",
    "\n",
    "\n",
    "## Arreglos\n",
    "Introducimos un nuevo tipo de datos, llamado `array`. Un arreglo se parece mucho a una lista, con la diferencia que un arreglo solo puede guardar elementos de un mismo tipo (mientras que en una lista podemos mezclar diferentes tipos de objetos). Esto implica que los arreglos se almacenan de manera más eficiente, porque no está la necesidad de guardar en cada elemento el tipo de datos. Esto también los hace el tipo de datos ideal para cálculo numérico, donde a menudo hay que lidiar con matrices y vectores. \n",
    "\n",
    "Los vectores y matrices (dos o más índices) se llaman *arreglos* en NumPy.\n",
    "\n",
    "\n",
    "### Vectores (arreglos unidimensionales)\n",
    "\n",
    "La estructura de datos que necesitaremos con más frecuencia son los vectores. A continuación veremos como crearlos, operar con ellos y cuáles son sus ventajas."
   ]
  },
  {
   "cell_type": "markdown",
   "metadata": {},
   "source": [
    "#### Creación y acceso a vectores:"
   ]
  },
  {
   "cell_type": "markdown",
   "metadata": {},
   "source": [
    "Hay varias formas de crear vectores. \n",
    "\n",
    "-   Transformación de una lista (o tupla) en un arreglo usando <span>`numpy.array`</span>:"
   ]
  },
  {
   "cell_type": "markdown",
   "metadata": {},
   "source": [
    "``` python\n",
    "numpy.array(object, dtype=None, *, copy=True, order='K', subok=False, ndmin=0, like=None)\n",
    "```"
   ]
  },
  {
   "cell_type": "code",
   "execution_count": 1,
   "metadata": {},
   "outputs": [
    {
     "name": "stdout",
     "output_type": "stream",
     "text": [
      "Requirement already satisfied: numpy in c:\\users\\roloa\\appdata\\local\\programs\\python\\python310\\lib\\site-packages (1.22.3+mkl)\n",
      "Note: you may need to restart the kernel to use updated packages.\n"
     ]
    }
   ],
   "source": [
    "pip install numpy"
   ]
  },
  {
   "cell_type": "code",
   "execution_count": 8,
   "metadata": {},
   "outputs": [
    {
     "name": "stdout",
     "output_type": "stream",
     "text": [
      "<class 'numpy.ndarray'>\n"
     ]
    }
   ],
   "source": [
    "import numpy as np\n",
    "\n",
    "lista=[1,2,3,4,5]\n",
    "x = np.array(lista)\n",
    "print(type(x))\n"
   ]
  },
  {
   "cell_type": "markdown",
   "metadata": {},
   "source": [
    "-   Transformación de una lista (o tupla) en un arreglo usando <span>`numpy.asarray`</span>:\n",
    "``` python\n",
    "numpy.asarray(a, dtype=None, order=None, *, like=None)\n",
    "```"
   ]
  },
  {
   "cell_type": "code",
   "execution_count": 9,
   "metadata": {},
   "outputs": [
    {
     "name": "stdout",
     "output_type": "stream",
     "text": [
      "[0.  0.5 1.  1.5]\n"
     ]
    }
   ],
   "source": [
    "x = np.asarray([0, 0.5, 1, 1.5])\n",
    "print(x)\n"
   ]
  },
  {
   "cell_type": "markdown",
   "metadata": {},
   "source": [
    "Diferencia entre <span>`numpy.array`</span> y <span>`numpy.asarray`</span>: \n",
    "\n",
    "`np.array` copia los valores (por defecto), mientras que `np.asarray` no lo hace. Además al usar `np.asarray` se puede especificar un orden (por filas, columnas, etc.)."
   ]
  },
  {
   "cell_type": "code",
   "execution_count": 10,
   "metadata": {},
   "outputs": [
    {
     "data": {
      "text/plain": [
       "True"
      ]
     },
     "execution_count": 10,
     "metadata": {},
     "output_type": "execute_result"
    }
   ],
   "source": [
    "a=np.asarray([1,2,3])\n",
    "\n",
    "b=np.asarray(a)\n",
    "b is a"
   ]
  },
  {
   "cell_type": "code",
   "execution_count": 12,
   "metadata": {},
   "outputs": [
    {
     "data": {
      "text/plain": [
       "False"
      ]
     },
     "execution_count": 12,
     "metadata": {},
     "output_type": "execute_result"
    }
   ],
   "source": [
    "a=np.array([1,2,3])\n",
    "b=np.array(a)\n",
    "b is a"
   ]
  },
  {
   "cell_type": "markdown",
   "metadata": {},
   "source": [
    "-   Creación de un vector usando `arange` (por \"ArrayRANGE”):"
   ]
  },
  {
   "cell_type": "code",
   "execution_count": 13,
   "metadata": {},
   "outputs": [
    {
     "name": "stdout",
     "output_type": "stream",
     "text": [
      "[0.  0.5 1.  1.5]\n"
     ]
    }
   ],
   "source": [
    "x = np.arange(0, 2, 0.5)\n",
    "print(x)"
   ]
  },
  {
   "cell_type": "markdown",
   "metadata": {},
   "source": [
    "- Usando los métodos `zeros` y `ones`"
   ]
  },
  {
   "cell_type": "markdown",
   "metadata": {},
   "source": [
    "``` python\n",
    "numpy.zeros(shape, dtype=float, order='C', *, like=None)\n",
    "\n",
    "```"
   ]
  },
  {
   "cell_type": "code",
   "execution_count": 14,
   "metadata": {},
   "outputs": [
    {
     "name": "stdout",
     "output_type": "stream",
     "text": [
      "[0. 0. 0. 0. 0. 0. 0. 0. 0. 0.]\n"
     ]
    }
   ],
   "source": [
    "x = np.zeros(10)\n",
    "print(x)"
   ]
  },
  {
   "cell_type": "code",
   "execution_count": 15,
   "metadata": {},
   "outputs": [
    {
     "name": "stdout",
     "output_type": "stream",
     "text": [
      "[1. 1. 1. 1. 1. 1. 1. 1. 1. 1.]\n"
     ]
    }
   ],
   "source": [
    "x = np.ones(10)\n",
    "print(x)"
   ]
  },
  {
   "cell_type": "markdown",
   "metadata": {},
   "source": [
    "#### Recuperar valores de un vector"
   ]
  },
  {
   "cell_type": "markdown",
   "metadata": {},
   "source": [
    "Una vez que el arrego está definido, podemos definir y recoperar valores individuales igual que con una lista. Por ejemplo:"
   ]
  },
  {
   "cell_type": "code",
   "execution_count": 16,
   "metadata": {},
   "outputs": [],
   "source": [
    "x = np.array([0,0.5,1,1.5,2,2.5])\n"
   ]
  },
  {
   "cell_type": "code",
   "execution_count": 17,
   "metadata": {},
   "outputs": [
    {
     "name": "stdout",
     "output_type": "stream",
     "text": [
      "[-1.   0.5  4.   1.5  2.   2.5]\n",
      "-1.0\n",
      "[-1.   0.5  4.   1.5  2. ]\n"
     ]
    }
   ],
   "source": [
    "x[0] = -1\n",
    "x[2] = 4\n",
    "print(x)\n",
    "print(x[0])\n",
    "print(x[0:-1])"
   ]
  },
  {
   "cell_type": "markdown",
   "metadata": {},
   "source": [
    "Pero a diferencia de las listas, podemos recuperar una lista (o arreglo) desde cualquier índice: "
   ]
  },
  {
   "cell_type": "code",
   "execution_count": 18,
   "metadata": {},
   "outputs": [
    {
     "data": {
      "text/plain": [
       "array([-1.,  4.,  2.])"
      ]
     },
     "execution_count": 18,
     "metadata": {},
     "output_type": "execute_result"
    }
   ],
   "source": [
    "x[[0,2,4]]"
   ]
  },
  {
   "cell_type": "code",
   "execution_count": 19,
   "metadata": {},
   "outputs": [
    {
     "data": {
      "text/plain": [
       "array([-1.,  4.,  2.])"
      ]
     },
     "execution_count": 19,
     "metadata": {},
     "output_type": "execute_result"
    }
   ],
   "source": [
    "x[np.array([0,2,4])]\n"
   ]
  },
  {
   "cell_type": "markdown",
   "metadata": {},
   "source": [
    "No necesariamente respetando el orden:"
   ]
  },
  {
   "cell_type": "code",
   "execution_count": 20,
   "metadata": {},
   "outputs": [
    {
     "data": {
      "text/plain": [
       "array([-1.,  2.,  4.])"
      ]
     },
     "execution_count": 20,
     "metadata": {},
     "output_type": "execute_result"
    }
   ],
   "source": [
    "x[[0,4,2]]"
   ]
  },
  {
   "cell_type": "markdown",
   "metadata": {},
   "source": [
    "e incluso se pueden repetir índices:"
   ]
  },
  {
   "cell_type": "code",
   "execution_count": 21,
   "metadata": {},
   "outputs": [
    {
     "data": {
      "text/plain": [
       "array([ 0.5,  0.5,  0.5, -1. ,  4. ,  0.5,  0.5])"
      ]
     },
     "execution_count": 21,
     "metadata": {},
     "output_type": "execute_result"
    }
   ],
   "source": [
    "x[[1,1,1,0,2,1,1]]"
   ]
  },
  {
   "cell_type": "markdown",
   "metadata": {},
   "source": [
    "También podemos escoger elementos con una lista (o arreglo) de valores Booleanos del mismo largo:"
   ]
  },
  {
   "cell_type": "code",
   "execution_count": 24,
   "metadata": {},
   "outputs": [
    {
     "name": "stdout",
     "output_type": "stream",
     "text": [
      "[-1.   0.5  4.   1.5  2.   2.5]\n"
     ]
    },
    {
     "data": {
      "text/plain": [
       "array([-1.,  4.,  2.])"
      ]
     },
     "execution_count": 24,
     "metadata": {},
     "output_type": "execute_result"
    }
   ],
   "source": [
    "print(x)\n",
    "x[[True,False,True,False,True,False]]"
   ]
  },
  {
   "cell_type": "markdown",
   "metadata": {},
   "source": [
    "#### Operaciones de vectores"
   ]
  },
  {
   "cell_type": "markdown",
   "metadata": {},
   "source": [
    "Otra diferencia con las listas es que en un vector podemos realizar cálculos sobre todos los elementos con un solo comando: "
   ]
  },
  {
   "cell_type": "code",
   "execution_count": 25,
   "metadata": {},
   "outputs": [
    {
     "name": "stdout",
     "output_type": "stream",
     "text": [
      "[-1.   0.5  4.   1.5  2.   2.5]\n"
     ]
    }
   ],
   "source": [
    "print(x)"
   ]
  },
  {
   "cell_type": "markdown",
   "metadata": {},
   "source": [
    "- Sumar 10 a cada elemento:"
   ]
  },
  {
   "cell_type": "code",
   "execution_count": 26,
   "metadata": {},
   "outputs": [
    {
     "name": "stdout",
     "output_type": "stream",
     "text": [
      "[ 9.  10.5 14.  11.5 12.  12.5]\n"
     ]
    }
   ],
   "source": [
    "print(x + 10)"
   ]
  },
  {
   "cell_type": "markdown",
   "metadata": {},
   "source": [
    "- Elevar cada elemento al cuadrado"
   ]
  },
  {
   "cell_type": "code",
   "execution_count": 27,
   "metadata": {},
   "outputs": [
    {
     "name": "stdout",
     "output_type": "stream",
     "text": [
      "[ 1.    0.25 16.    2.25  4.    6.25]\n"
     ]
    }
   ],
   "source": [
    "print(x**2)"
   ]
  },
  {
   "cell_type": "markdown",
   "metadata": {},
   "source": [
    "- NumPy incluye las funciones de la librería `math`, que se pueden aplicar a todos los elementos de un vector:"
   ]
  },
  {
   "cell_type": "code",
   "execution_count": 28,
   "metadata": {},
   "outputs": [
    {
     "name": "stdout",
     "output_type": "stream",
     "text": [
      "[-0.84147098  0.47942554 -0.7568025   0.99749499  0.90929743  0.59847214]\n"
     ]
    }
   ],
   "source": [
    "print(np.sin(x))"
   ]
  },
  {
   "cell_type": "markdown",
   "metadata": {},
   "source": [
    "Por lo tanto, a diferencia de las listas, cuando multiplicamos un vector por un número, multiplicamos todos sus elementos:"
   ]
  },
  {
   "cell_type": "code",
   "execution_count": 29,
   "metadata": {},
   "outputs": [
    {
     "name": "stdout",
     "output_type": "stream",
     "text": [
      "[-1.   0.5  4.   1.5  2.   2.5]\n",
      "[-5.   2.5 20.   7.5 10.  12.5]\n"
     ]
    }
   ],
   "source": [
    "y = 5*x\n",
    "print(x)\n",
    "print(y)"
   ]
  },
  {
   "cell_type": "markdown",
   "metadata": {},
   "source": [
    "Además, a diferencia de las listas, podemos comparar un arreglo con un número, lo que equivale a comparar elemento por elemento. Por ejemplo, si tomamos el siguiente vector:"
   ]
  },
  {
   "cell_type": "code",
   "execution_count": 30,
   "metadata": {},
   "outputs": [
    {
     "data": {
      "text/plain": [
       "array([10, 15, 20, 25, 30])"
      ]
     },
     "execution_count": 30,
     "metadata": {},
     "output_type": "execute_result"
    }
   ],
   "source": [
    "x = np.array([10,15,20,25,30])\n",
    "x"
   ]
  },
  {
   "cell_type": "markdown",
   "metadata": {},
   "source": [
    "entonces al comparar `x` con un número, obtenemos un arreglo de las mismas dimensiones, donde cada elemento es `True` o `False`:"
   ]
  },
  {
   "cell_type": "code",
   "execution_count": 32,
   "metadata": {},
   "outputs": [
    {
     "data": {
      "text/plain": [
       "array([False, False, False,  True,  True])"
      ]
     },
     "execution_count": 32,
     "metadata": {},
     "output_type": "execute_result"
    }
   ],
   "source": [
    "x>20"
   ]
  },
  {
   "cell_type": "code",
   "execution_count": 33,
   "metadata": {},
   "outputs": [
    {
     "data": {
      "text/plain": [
       "array([False, False, False,  True, False])"
      ]
     },
     "execution_count": 33,
     "metadata": {},
     "output_type": "execute_result"
    }
   ],
   "source": [
    "x == 25"
   ]
  },
  {
   "cell_type": "code",
   "execution_count": 36,
   "metadata": {},
   "outputs": [],
   "source": [
    "vector_bool=x != 30\n"
   ]
  },
  {
   "cell_type": "markdown",
   "metadata": {},
   "source": [
    "y esto último permite recuperar partes del arreglo de manera muy eficiente:"
   ]
  },
  {
   "cell_type": "code",
   "execution_count": 37,
   "metadata": {},
   "outputs": [
    {
     "data": {
      "text/plain": [
       "array([10, 15, 20, 25])"
      ]
     },
     "execution_count": 37,
     "metadata": {},
     "output_type": "execute_result"
    }
   ],
   "source": [
    "x[vector_bool]"
   ]
  },
  {
   "cell_type": "code",
   "execution_count": 39,
   "metadata": {},
   "outputs": [
    {
     "data": {
      "text/plain": [
       "array([25, 30])"
      ]
     },
     "execution_count": 39,
     "metadata": {},
     "output_type": "execute_result"
    }
   ],
   "source": [
    "x[x>20]"
   ]
  },
  {
   "cell_type": "code",
   "execution_count": 40,
   "metadata": {},
   "outputs": [
    {
     "data": {
      "text/plain": [
       "array([10, 15, 20, 25])"
      ]
     },
     "execution_count": 40,
     "metadata": {},
     "output_type": "execute_result"
    }
   ],
   "source": [
    "x[x!=30]"
   ]
  },
  {
   "cell_type": "markdown",
   "metadata": {},
   "source": [
    "**Observación:** Se puede transformar una lista en un arreglo cambiando el tipo de dato de cada elemento usando el argumento opcional `dtype` de la función `array()`. Por ejemplo:"
   ]
  },
  {
   "cell_type": "code",
   "execution_count": 41,
   "metadata": {},
   "outputs": [
    {
     "name": "stdout",
     "output_type": "stream",
     "text": [
      "[1.1 1.5 2. ]\n"
     ]
    }
   ],
   "source": [
    "lista_num = [\"1.1\",\"1.5\\n\",\"2\"]\n",
    "arreglo_num = np.array(lista_num, dtype = \"float\")\n",
    "print(arreglo_num)"
   ]
  },
  {
   "cell_type": "code",
   "execution_count": 45,
   "metadata": {},
   "outputs": [
    {
     "name": "stdout",
     "output_type": "stream",
     "text": [
      "[1 2 3]\n"
     ]
    }
   ],
   "source": [
    "lista_num = [\"1\\n\",\"2\\n\",\"3\"]\n",
    "arreglo_num = np.array(lista_num, dtype = \"int\")\n",
    "print(arreglo_num)"
   ]
  },
  {
   "cell_type": "markdown",
   "metadata": {},
   "source": [
    "### Matrices (arreglos bidimensionales)"
   ]
  },
  {
   "cell_type": "markdown",
   "metadata": {},
   "source": [
    "### Creación de arreglos bidimensionales\n",
    "\n",
    "Hay dos modos de crear un arreglo bidimensional: \n",
    "\n",
    "- Transformando una lista de listas en un arreglo:"
   ]
  },
  {
   "cell_type": "code",
   "execution_count": 46,
   "metadata": {},
   "outputs": [
    {
     "data": {
      "text/plain": [
       "array([[1, 2, 3],\n",
       "       [4, 5, 6]])"
      ]
     },
     "execution_count": 46,
     "metadata": {},
     "output_type": "execute_result"
    }
   ],
   "source": [
    "x = np.array([[1, 2, 3], [4, 5, 6]])\n",
    "x"
   ]
  },
  {
   "cell_type": "markdown",
   "metadata": {},
   "source": [
    "-   Usando el método `zeros` o `ones` (por ejemplo para crear una matriz con 5 filas y 4 columnas):"
   ]
  },
  {
   "cell_type": "markdown",
   "metadata": {},
   "source": [
    "``` python\n",
    "numpy.empty(shape, dtype=float, order='C') \n",
    "```"
   ]
  },
  {
   "cell_type": "code",
   "execution_count": 49,
   "metadata": {},
   "outputs": [
    {
     "data": {
      "text/plain": [
       "array([[0., 0., 0., 0.],\n",
       "       [0., 0., 0., 0.],\n",
       "       [0., 0., 0., 0.],\n",
       "       [0., 0., 0., 0.],\n",
       "       [0., 0., 0., 0.]])"
      ]
     },
     "execution_count": 49,
     "metadata": {},
     "output_type": "execute_result"
    }
   ],
   "source": [
    "x = np.zeros((5, 4))\n",
    "x"
   ]
  },
  {
   "cell_type": "markdown",
   "metadata": {},
   "source": [
    "que se extiende fácilmente a más dimensiones"
   ]
  },
  {
   "cell_type": "code",
   "execution_count": 50,
   "metadata": {},
   "outputs": [
    {
     "data": {
      "text/plain": [
       "array([[[0., 0., 0., 0.],\n",
       "        [0., 0., 0., 0.],\n",
       "        [0., 0., 0., 0.],\n",
       "        [0., 0., 0., 0.],\n",
       "        [0., 0., 0., 0.]],\n",
       "\n",
       "       [[0., 0., 0., 0.],\n",
       "        [0., 0., 0., 0.],\n",
       "        [0., 0., 0., 0.],\n",
       "        [0., 0., 0., 0.],\n",
       "        [0., 0., 0., 0.]]])"
      ]
     },
     "execution_count": 50,
     "metadata": {},
     "output_type": "execute_result"
    }
   ],
   "source": [
    "x = np.zeros((2, 5, 4))\n",
    "x"
   ]
  },
  {
   "cell_type": "markdown",
   "metadata": {},
   "source": [
    "- También, usando el metodo \n",
    "``` python \n",
    "numpy.empty(shape, dtype=float, order='C') \n",
    "```"
   ]
  },
  {
   "cell_type": "code",
   "execution_count": 54,
   "metadata": {},
   "outputs": [
    {
     "data": {
      "text/plain": [
       "array([[1.15751666e-311, 0.00000000e+000]])"
      ]
     },
     "execution_count": 54,
     "metadata": {},
     "output_type": "execute_result"
    }
   ],
   "source": [
    "np.empty((1,2))"
   ]
  },
  {
   "cell_type": "markdown",
   "metadata": {},
   "source": [
    "Se pueden recuperar las dimensiones de una matriz con el comando `shape`:"
   ]
  },
  {
   "cell_type": "code",
   "execution_count": 58,
   "metadata": {},
   "outputs": [
    {
     "name": "stdout",
     "output_type": "stream",
     "text": [
      "[[1 2 3]\n",
      " [4 5 6]]\n",
      "2 3\n"
     ]
    }
   ],
   "source": [
    "x=np.array([[1, 2, 3], [4, 5, 6]])\n",
    "print(x)\n",
    "filas=x.shape[0]\n",
    "columnas=x.shape[1]\n",
    "print(filas, columnas)"
   ]
  },
  {
   "cell_type": "code",
   "execution_count": 59,
   "metadata": {},
   "outputs": [
    {
     "data": {
      "text/plain": [
       "(2, 5, 4)"
      ]
     },
     "execution_count": 59,
     "metadata": {},
     "output_type": "execute_result"
    }
   ],
   "source": [
    "np.zeros((2,5,4)).shape"
   ]
  },
  {
   "cell_type": "markdown",
   "metadata": {},
   "source": [
    "#### Recuperar elementos\n",
    "\n",
    "Se puede acceder elementos individuales usando la sintaxis que usamos para las listas:"
   ]
  },
  {
   "cell_type": "code",
   "execution_count": 60,
   "metadata": {},
   "outputs": [
    {
     "data": {
      "text/plain": [
       "1"
      ]
     },
     "execution_count": 60,
     "metadata": {},
     "output_type": "execute_result"
    }
   ],
   "source": [
    "x[0][0]"
   ]
  },
  {
   "cell_type": "markdown",
   "metadata": {},
   "source": [
    "o bien:"
   ]
  },
  {
   "cell_type": "code",
   "execution_count": 61,
   "metadata": {},
   "outputs": [
    {
     "data": {
      "text/plain": [
       "1"
      ]
     },
     "execution_count": 61,
     "metadata": {},
     "output_type": "execute_result"
    }
   ],
   "source": [
    "x[0, 0]"
   ]
  },
  {
   "cell_type": "code",
   "execution_count": 62,
   "metadata": {},
   "outputs": [
    {
     "data": {
      "text/plain": [
       "2"
      ]
     },
     "execution_count": 62,
     "metadata": {},
     "output_type": "execute_result"
    }
   ],
   "source": [
    "x[0, 1]"
   ]
  },
  {
   "cell_type": "code",
   "execution_count": 63,
   "metadata": {},
   "outputs": [
    {
     "data": {
      "text/plain": [
       "3"
      ]
     },
     "execution_count": 63,
     "metadata": {},
     "output_type": "execute_result"
    }
   ],
   "source": [
    "x[0, 2]\n"
   ]
  },
  {
   "cell_type": "code",
   "execution_count": 64,
   "metadata": {},
   "outputs": [
    {
     "data": {
      "text/plain": [
       "4"
      ]
     },
     "execution_count": 64,
     "metadata": {},
     "output_type": "execute_result"
    }
   ],
   "source": [
    "x[1, 0]"
   ]
  },
  {
   "cell_type": "markdown",
   "metadata": {},
   "source": [
    "También podemos recuperar una fila de la matriz usando la sitaxis de las listas:"
   ]
  },
  {
   "cell_type": "code",
   "execution_count": 65,
   "metadata": {},
   "outputs": [
    {
     "data": {
      "text/plain": [
       "array([1, 2, 3])"
      ]
     },
     "execution_count": 65,
     "metadata": {},
     "output_type": "execute_result"
    }
   ],
   "source": [
    "x[0]"
   ]
  },
  {
   "cell_type": "markdown",
   "metadata": {},
   "source": [
    "o bien"
   ]
  },
  {
   "cell_type": "code",
   "execution_count": 66,
   "metadata": {},
   "outputs": [
    {
     "data": {
      "text/plain": [
       "array([1, 2, 3])"
      ]
     },
     "execution_count": 66,
     "metadata": {},
     "output_type": "execute_result"
    }
   ],
   "source": [
    "x[0,:]"
   ]
  },
  {
   "cell_type": "markdown",
   "metadata": {},
   "source": [
    "Pero a diferencia de las listas, podemos recuperar las columnas:"
   ]
  },
  {
   "cell_type": "code",
   "execution_count": 67,
   "metadata": {},
   "outputs": [
    {
     "data": {
      "text/plain": [
       "array([1, 4])"
      ]
     },
     "execution_count": 67,
     "metadata": {},
     "output_type": "execute_result"
    }
   ],
   "source": [
    "x[:, 0]\n"
   ]
  },
  {
   "cell_type": "code",
   "execution_count": 68,
   "metadata": {},
   "outputs": [
    {
     "data": {
      "text/plain": [
       "array([2, 5])"
      ]
     },
     "execution_count": 68,
     "metadata": {},
     "output_type": "execute_result"
    }
   ],
   "source": [
    "x[:, 1]\n"
   ]
  },
  {
   "cell_type": "markdown",
   "metadata": {},
   "source": [
    "### Definiendo matrices a partir de vectores"
   ]
  },
  {
   "cell_type": "markdown",
   "metadata": {},
   "source": [
    "La función `eye` sirve para generar una matriz identidad:"
   ]
  },
  {
   "cell_type": "markdown",
   "metadata": {},
   "source": [
    "``` python\n",
    "numpy.eye(N, M=None, k=0, dtype=<class 'float'>, order='C', *, like=None)\n",
    "```"
   ]
  },
  {
   "cell_type": "code",
   "execution_count": 73,
   "metadata": {},
   "outputs": [
    {
     "data": {
      "text/plain": [
       "array([[1., 0., 0., 0., 0.],\n",
       "       [0., 1., 0., 0., 0.],\n",
       "       [0., 0., 1., 0., 0.],\n",
       "       [0., 0., 0., 1., 0.],\n",
       "       [0., 0., 0., 0., 1.]])"
      ]
     },
     "execution_count": 73,
     "metadata": {},
     "output_type": "execute_result"
    }
   ],
   "source": [
    "# np.eye(5,k=0)\n",
    "np.identity(5)"
   ]
  },
  {
   "cell_type": "markdown",
   "metadata": {},
   "source": [
    "Podemos usar la función `diag` para crear una matriz diagonal a partir de una lista o vector:"
   ]
  },
  {
   "cell_type": "code",
   "execution_count": 74,
   "metadata": {},
   "outputs": [
    {
     "data": {
      "text/plain": [
       "array([[1, 0, 0],\n",
       "       [0, 2, 0],\n",
       "       [0, 0, 3]])"
      ]
     },
     "execution_count": 74,
     "metadata": {},
     "output_type": "execute_result"
    }
   ],
   "source": [
    "np.diag([1,2,3])"
   ]
  },
  {
   "cell_type": "markdown",
   "metadata": {},
   "source": [
    "Con el método `.reshape` podemos transformar un vector en una matriz"
   ]
  },
  {
   "cell_type": "code",
   "execution_count": 75,
   "metadata": {},
   "outputs": [
    {
     "name": "stdout",
     "output_type": "stream",
     "text": [
      "[0 1 2 3 4 5]\n"
     ]
    }
   ],
   "source": [
    "x = np.arange(6)\n",
    "print(x)"
   ]
  },
  {
   "cell_type": "code",
   "execution_count": 77,
   "metadata": {},
   "outputs": [
    {
     "name": "stdout",
     "output_type": "stream",
     "text": [
      "[[0 1]\n",
      " [2 3]\n",
      " [4 5]]\n"
     ]
    }
   ],
   "source": [
    "y = x.reshape(3,2)\n",
    "print(y)"
   ]
  },
  {
   "cell_type": "markdown",
   "metadata": {},
   "source": [
    "o transformar una matriz en una de otras dimensiones pero los mismos valores:"
   ]
  },
  {
   "cell_type": "code",
   "execution_count": 79,
   "metadata": {},
   "outputs": [],
   "source": [
    "y=y.reshape(6,1)"
   ]
  },
  {
   "cell_type": "code",
   "execution_count": 80,
   "metadata": {},
   "outputs": [
    {
     "data": {
      "text/plain": [
       "array([[0],\n",
       "       [1],\n",
       "       [2],\n",
       "       [3],\n",
       "       [4],\n",
       "       [5]])"
      ]
     },
     "execution_count": 80,
     "metadata": {},
     "output_type": "execute_result"
    }
   ],
   "source": [
    "y"
   ]
  },
  {
   "cell_type": "markdown",
   "metadata": {},
   "source": [
    "### Módulo `random`"
   ]
  },
  {
   "cell_type": "markdown",
   "metadata": {},
   "source": [
    "NumPy también incorpora el módulo `random`, que permite generar números pseudoaleatorios. \n",
    "Por ejemplo, la función `randint(low=0,high)`, que genera un valor al azar entre low (por defecto 0) y high, se puede llamar apelando al módulo `random` y a `np`:"
   ]
  },
  {
   "cell_type": "code",
   "execution_count": 86,
   "metadata": {},
   "outputs": [
    {
     "data": {
      "text/plain": [
       "23"
      ]
     },
     "execution_count": 86,
     "metadata": {},
     "output_type": "execute_result"
    }
   ],
   "source": [
    "np.random.randint(100)"
   ]
  },
  {
   "cell_type": "markdown",
   "metadata": {},
   "source": [
    "Del mismo modo, podemos usar el método `random()` (que genera un número al azar entre 0 y 1). "
   ]
  },
  {
   "cell_type": "code",
   "execution_count": 82,
   "metadata": {},
   "outputs": [
    {
     "data": {
      "text/plain": [
       "0.5092666293867975"
      ]
     },
     "execution_count": 82,
     "metadata": {},
     "output_type": "execute_result"
    }
   ],
   "source": [
    "np.random.random()"
   ]
  },
  {
   "cell_type": "markdown",
   "metadata": {},
   "source": [
    "Pero además, al incluirlas con el módulo NumPy, estas funciones permiten crear arreglos y matrices de valores aleatorios:"
   ]
  },
  {
   "cell_type": "code",
   "execution_count": 83,
   "metadata": {},
   "outputs": [
    {
     "data": {
      "text/plain": [
       "array([35, 54, 19, 40, 54, 89, 45, 62, 18, 18])"
      ]
     },
     "execution_count": 83,
     "metadata": {},
     "output_type": "execute_result"
    }
   ],
   "source": [
    "np.random.randint(100,size=10)\n"
   ]
  },
  {
   "cell_type": "code",
   "execution_count": 87,
   "metadata": {},
   "outputs": [
    {
     "data": {
      "text/plain": [
       "array([[61, 96, 11, 80, 69],\n",
       "       [79, 51, 37, 57, 51],\n",
       "       [80, 71, 77,  6, 28],\n",
       "       [83, 34, 33,  3, 11],\n",
       "       [14, 31, 35, 52, 13],\n",
       "       [68, 79, 77, 74,  2],\n",
       "       [76, 88, 75, 96, 65],\n",
       "       [ 6,  0, 83, 53, 43],\n",
       "       [45, 82, 56, 52, 16],\n",
       "       [86,  4, 85, 24, 40]])"
      ]
     },
     "execution_count": 87,
     "metadata": {},
     "output_type": "execute_result"
    }
   ],
   "source": [
    "np.random.randint(0,100,(10,5))"
   ]
  },
  {
   "cell_type": "markdown",
   "metadata": {},
   "source": []
  },
  {
   "cell_type": "code",
   "execution_count": 88,
   "metadata": {},
   "outputs": [
    {
     "data": {
      "text/plain": [
       "array([[64, 23, 12],\n",
       "       [54, 61, 73],\n",
       "       [91, 30, 85]])"
      ]
     },
     "execution_count": 88,
     "metadata": {},
     "output_type": "execute_result"
    }
   ],
   "source": [
    "np.random.randint(100,size=(3,3))\n"
   ]
  },
  {
   "cell_type": "code",
   "execution_count": 89,
   "metadata": {},
   "outputs": [
    {
     "data": {
      "text/plain": [
       "array([[0.12305701, 0.99329572, 0.34719696],\n",
       "       [0.50736873, 0.5840149 , 0.55021691],\n",
       "       [0.48060433, 0.30970294, 0.47933132]])"
      ]
     },
     "execution_count": 89,
     "metadata": {},
     "output_type": "execute_result"
    }
   ],
   "source": [
    "np.random.random(size=(3,3))\n"
   ]
  },
  {
   "cell_type": "markdown",
   "metadata": {},
   "source": [
    "Para este último caso, hay una forma un poco más abreviada:"
   ]
  },
  {
   "cell_type": "code",
   "execution_count": 90,
   "metadata": {},
   "outputs": [
    {
     "data": {
      "text/plain": [
       "array([[0.58305087, 0.6391096 , 0.2977889 ],\n",
       "       [0.62442168, 0.11942933, 0.9582119 ],\n",
       "       [0.76835278, 0.3011356 , 0.52502659]])"
      ]
     },
     "execution_count": 90,
     "metadata": {},
     "output_type": "execute_result"
    }
   ],
   "source": [
    "np.random.rand(3,3)\n"
   ]
  },
  {
   "cell_type": "markdown",
   "metadata": {},
   "source": [
    "### Otras funciones utiles de numpy"
   ]
  },
  {
   "cell_type": "markdown",
   "metadata": {},
   "source": [
    "- `numpy.where()`\n",
    "```python\n",
    "numpy.where(condition: ArrayLike or bool, [x, y])\n",
    "Return elements chosen from x or y depending on condition.\n",
    "```\n",
    "\n"
   ]
  },
  {
   "cell_type": "code",
   "execution_count": 93,
   "metadata": {},
   "outputs": [
    {
     "data": {
      "text/plain": [
       "(array([3], dtype=int64),)"
      ]
     },
     "execution_count": 93,
     "metadata": {},
     "output_type": "execute_result"
    }
   ],
   "source": [
    "lista=[1,2,3,4,5]\n",
    "np.where(np.array(lista)==4)"
   ]
  },
  {
   "cell_type": "code",
   "execution_count": 94,
   "metadata": {},
   "outputs": [
    {
     "data": {
      "text/plain": [
       "array(['distinto de 20', 'igual a 20', 'distinto de 20', 'distinto de 20',\n",
       "       'distinto de 20'], dtype='<U14')"
      ]
     },
     "execution_count": 94,
     "metadata": {},
     "output_type": "execute_result"
    }
   ],
   "source": [
    "arreglo=np.array([10,20,30,40,50])\n",
    "\n",
    "np.where(arreglo==20,'igual a 20','distinto de 20')"
   ]
  },
  {
   "cell_type": "code",
   "execution_count": 95,
   "metadata": {},
   "outputs": [
    {
     "data": {
      "text/plain": [
       "array([ 0,  1,  2,  3,  4, 50, 60, 70, 80, 90])"
      ]
     },
     "execution_count": 95,
     "metadata": {},
     "output_type": "execute_result"
    }
   ],
   "source": [
    "#Segundo ejemplo\n",
    "a = np.arange(10)\n",
    "np.where(a < 5, a, 10*a)"
   ]
  },
  {
   "cell_type": "code",
   "execution_count": 96,
   "metadata": {},
   "outputs": [
    {
     "data": {
      "text/plain": [
       "array([[1, 8],\n",
       "       [3, 4]])"
      ]
     },
     "execution_count": 96,
     "metadata": {},
     "output_type": "execute_result"
    }
   ],
   "source": [
    "np.where([[True, False],[True, True]], \n",
    "          [[1, 2],[3, 4]],[[9, 8],[7, 6]])"
   ]
  },
  {
   "cell_type": "markdown",
   "metadata": {},
   "source": [
    "También, puedo almacenar los indices de los valores que cumplen la condición en un arreglo."
   ]
  },
  {
   "cell_type": "code",
   "execution_count": 97,
   "metadata": {},
   "outputs": [
    {
     "data": {
      "text/plain": [
       "array([[0, 2, 4, 5]], dtype=int64)"
      ]
     },
     "execution_count": 97,
     "metadata": {},
     "output_type": "execute_result"
    }
   ],
   "source": [
    "a = np.array([12,1,8,1,9,10,1,4])\n",
    "\n",
    "indices=np.array(np.where(a>4))\n",
    "indices"
   ]
  },
  {
   "cell_type": "markdown",
   "metadata": {},
   "source": [
    "- ### ```numpy.count_nonzero```\n",
    "Cuenta el número de valores que no son cero en el arreglo *a*\n",
    "```python \n",
    "\n",
    "numpy.count_nonzero(a, axis=None, *, keepdims=False)\n",
    "```"
   ]
  },
  {
   "cell_type": "code",
   "execution_count": 100,
   "metadata": {},
   "outputs": [
    {
     "data": {
      "text/plain": [
       "5"
      ]
     },
     "execution_count": 100,
     "metadata": {},
     "output_type": "execute_result"
    }
   ],
   "source": [
    "a = np.array([[0, 1, 7, 0],\n",
    "              [3, 0, 2, 7]])\n",
    "np.count_nonzero(a)"
   ]
  },
  {
   "cell_type": "markdown",
   "metadata": {},
   "source": [
    "También puede contar el número de veces en que se cumple una condición"
   ]
  },
  {
   "cell_type": "code",
   "execution_count": 101,
   "metadata": {},
   "outputs": [
    {
     "data": {
      "text/plain": [
       "array([[ True, False, False,  True],\n",
       "       [False,  True, False, False]])"
      ]
     },
     "execution_count": 101,
     "metadata": {},
     "output_type": "execute_result"
    }
   ],
   "source": [
    "a==0"
   ]
  },
  {
   "cell_type": "code",
   "execution_count": 104,
   "metadata": {},
   "outputs": [
    {
     "data": {
      "text/plain": [
       "5"
      ]
     },
     "execution_count": 104,
     "metadata": {},
     "output_type": "execute_result"
    }
   ],
   "source": [
    "np.count_nonzero(a!=0)\n",
    "np.count_nonzero(a!=0)"
   ]
  },
  {
   "cell_type": "markdown",
   "metadata": {},
   "source": [
    "# Ejemplos\n",
    "\n",
    "En esta clase analizaremos ejemplos de aplicaciones con las herramientas que hemos trabajado.\n",
    "La idea es ir avanzando desde problemas netamente de programación hasta ejemplos relacionados con los conceptos de la clase.\n"
   ]
  },
  {
   "cell_type": "markdown",
   "metadata": {},
   "source": [
    "## Ejemplo 1\n",
    "\n",
    "Construya una función que permita determinar si un número es primo. El uso de la operacion modulo % puede ser útil.\n"
   ]
  },
  {
   "cell_type": "code",
   "execution_count": 105,
   "metadata": {},
   "outputs": [],
   "source": [
    "def primo(n):\n",
    "    indicador=1\n",
    "    for i in range(2,n):\n",
    "        if n%i==0:\n",
    "            indicador=0\n",
    "    if indicador==1:\n",
    "        print('El número es primo')\n",
    "    else: \n",
    "        print('El número no es primo')   "
   ]
  },
  {
   "cell_type": "code",
   "execution_count": 111,
   "metadata": {},
   "outputs": [
    {
     "name": "stdout",
     "output_type": "stream",
     "text": [
      "El número no es primo\n"
     ]
    }
   ],
   "source": [
    "primo(132)  "
   ]
  },
  {
   "cell_type": "code",
   "execution_count": 114,
   "metadata": {},
   "outputs": [],
   "source": [
    "# Es posible pedir al usuario que ingrese directamente un valor, sin la necesidad de tener que escribirlo en el código.\n",
    "# Para esto usaremos la función input('texto')\n",
    "\n",
    "def primo():\n",
    "    n=input('Ingrese un número para saber si es primo: ')\n",
    "    n=int(n)\n",
    "    \n",
    "    indicador=1\n",
    "    for i in range(2,n):\n",
    "        if n%i==0:\n",
    "            indicador=0\n",
    "    if indicador==1:\n",
    "        print('El número es primo')\n",
    "    else: \n",
    "        print('El número no es primo') "
   ]
  },
  {
   "cell_type": "code",
   "execution_count": 116,
   "metadata": {},
   "outputs": [
    {
     "name": "stdout",
     "output_type": "stream",
     "text": [
      "Ingrese un número para saber si es primo: 6\n",
      "El número no es primo\n"
     ]
    }
   ],
   "source": [
    "primo()"
   ]
  },
  {
   "cell_type": "markdown",
   "metadata": {},
   "source": [
    "## Ejemplo 2\n",
    "\n",
    "Construya una función que permita recorrer una matriz y buscar un valor determinado, indicando la cantidad de veces que aparece el valor, y la posición de cada aparición. Pueden ser útiles las funciones np.asarray, np.where y np.count_nonzero que permiten transformar elementos en array de mnumpy, buscar los índices en una matriz de un valor indicado y saber la cantidad de ocurrencias de un número en una matriz respectivamente.\n",
    "\n",
    "(La semana pasada realizamos un ejercicio similar, la idea es que se den cuenta que no siempre hay que inventar la rueda, sino que existen funciones predefinidas que pueden ser útiles.)"
   ]
  },
  {
   "cell_type": "code",
   "execution_count": null,
   "metadata": {},
   "outputs": [],
   "source": [
    "def buscamatriz(A,n):\n",
    "    indices=np.array(np.where(A==n))\n",
    "    veces=np.count_nonzero(A==n)\n",
    "    return indices,veces"
   ]
  },
  {
   "cell_type": "code",
   "execution_count": null,
   "metadata": {},
   "outputs": [],
   "source": [
    "A=np.array([[1,3,2,1,5],[1,1,2,5,3],[12,65,23,6,1]])\n",
    "print(A)"
   ]
  },
  {
   "cell_type": "code",
   "execution_count": null,
   "metadata": {},
   "outputs": [],
   "source": [
    "indices,veces = buscamatriz(A,1)\n",
    "print(indices)\n",
    "print(veces)"
   ]
  },
  {
   "cell_type": "markdown",
   "metadata": {},
   "source": [
    "# Ejemplo 3\n",
    "\n",
    "El problema del vendedor de diarios es un clásico de la decisión bajo incertidumbre, ya que permite entender los conceptos más simples en un contexto real. Los y las alumnas deberían ya manejar el ejemplo al revés y al derecho, sin embargo, sería bueno un pequeño barniz.\n",
    "\n",
    "El vendedor de diarios, debe decidir cada mañana la cantidad de diarios que tendrá a la venta durante el día. Cada uno de estos diarios posee un costo de c pesos. Una vez puestos a la venta, existe una variable aleatoria D que representa la cantidad de diarios que son demandados durante un día (Ojo, demandados no es lo mismo que vendidos, si la demanda es 10 y solo tengo 5 diarios a la venta, entonces solo venderé 5, a la vez que si demando 3 y tengo 20 a disposición solo venderé 3). Cada diario vendido representa un ingreso de p pesos para el vendedor. \n",
    "\n",
    "Es posible agregar adicionales, tales como un precio de reventa, r, de los sobrantes al final del día o un costo, q, por demanda insatisfecha (diarios demandados pero no vendidos).\n",
    "\n",
    "De esta forma, la función de recompensa está dada por:\n",
    "\n",
    "$R(x,D)= -c\\cdot x + p\\cdot \\min(x,D) + r\\cdot \\max(0,x-D) - q\\cdot \\max(0,D-x)$\n",
    "\n",
    "Lo que haremos será determinar la matriz de recompensas y, bajo distintos criterios, establecer lo que conviene hacer."
   ]
  },
  {
   "cell_type": "markdown",
   "metadata": {},
   "source": [
    "Formule una función que entregue la matriz de recompensas del vendedor de diarios, sabiendo que la demanda puede ir desde 0 a K diarios."
   ]
  },
  {
   "cell_type": "code",
   "execution_count": null,
   "metadata": {},
   "outputs": [],
   "source": [
    "def vendedor1(K,p,c,r,q):\n",
    "    # necesitamos K+1 filas y K+1 columnas, ya que las decisiones pueden ser pedir desde 0 a K \n",
    "    # diarios y las demandas son de 0 a K diarios.\n",
    "    # las filas representarán las acciones (valores de x, cuántos diarios comprar) y las columnas los eventos aleatorios (valores de D)\n",
    "    mr=np.empty((K+1,K+1))\n",
    "    indfilas = np.arange(0,K+1)  \n",
    "    for i in range(K+1):\n",
    "        for j in range(K+1):\n",
    "            mr[i,j]=-c*i+p*min(i,j)+r*max(0,i-j)-q*max(0,j-i)\n",
    "    return mr, indfilas    "
   ]
  },
  {
   "cell_type": "markdown",
   "metadata": {},
   "source": [
    "Use la función creada para obtener la matriz de recompensas del vendedor de diarios, considerando una demanda desde 0 a 9 diarios, un precio de venta de 1500, un costo de 400, un precio de reventa de 200 y un perjuicio de 100 por demanda insatisfecha. Considere que el vector de probabilidades de las demandas es el siguiente: [0.05 0.03 0.03 0.2 0.1 0.1 0.05 0.04 0.01 0.3 0.]\n"
   ]
  },
  {
   "cell_type": "code",
   "execution_count": null,
   "metadata": {},
   "outputs": [],
   "source": [
    "mr,indfilas=vendedor1(9,1500,400,200,100)\n",
    "print(mr)\n",
    "print(len(indfilas))"
   ]
  },
  {
   "cell_type": "code",
   "execution_count": null,
   "metadata": {},
   "outputs": [],
   "source": [
    "mr.max()"
   ]
  },
  {
   "cell_type": "code",
   "execution_count": null,
   "metadata": {},
   "outputs": [],
   "source": [
    "np.array(np.where(mr==mr.max()))"
   ]
  },
  {
   "cell_type": "code",
   "execution_count": null,
   "metadata": {},
   "outputs": [],
   "source": [
    "#pip install tabulate\n",
    "from tabulate import tabulate\n",
    "print(tabulate(mr,headers='keys',showindex='always',tablefmt=\"fancy_grid\"))"
   ]
  },
  {
   "cell_type": "markdown",
   "metadata": {},
   "source": [
    "Ahora usaremos criterios de elección para saber que decisión tomar.\n",
    "Consideraremos tres criterios\n",
    "\n",
    "\n",
    "- **Maximax**: elegir la mejor opción considerando el mejor escenario para cada una.\n",
    "\n",
    "- **Maximin**: elegir la mejor opción considerando el peor escenario para cada una.\n",
    "\n",
    "- **Valor esperado**: elegir la mejor opción considerando la recompensa esperada ($probabilidad \\cdot recompensa$)"
   ]
  },
  {
   "cell_type": "code",
   "execution_count": null,
   "metadata": {},
   "outputs": [],
   "source": [
    "# Maximax\n",
    "\n",
    "def maximaxvendedor(mr,indfilas):\n",
    "    maximos=np.empty(len(indfilas))\n",
    "    for i in range(len(indfilas)):\n",
    "        maximos[i]=mr[i,:].max()\n",
    "    maximo=maximos.max() # El mejor del mejor escenario\n",
    "    \n",
    "    max1= np.asarray(np.where(mr == maximo))\n",
    "    return maximo,max1\n",
    "\n",
    "maximo,max1=maximaxvendedor(mr,indfilas)\n",
    "print('La recompensa siguiendo maximax es de '+str(maximo)+' pesos')\n",
    "print('Conviene pedir', end =\" \")\n",
    "\n",
    "for i in range(len(max1[0,:])):\n",
    "      print(max1[0,i], end =\" \")\n",
    "        \n",
    "print('diarios')"
   ]
  },
  {
   "cell_type": "code",
   "execution_count": null,
   "metadata": {},
   "outputs": [],
   "source": [
    "# Maximin\n",
    "\n",
    "def maximinvendedor(mr,indfilas):\n",
    "    minimos=np.empty(len(indfilas))\n",
    "    for i in range(len(indfilas)):\n",
    "        minimos[i]=np.min(mr[i,:])\n",
    "    print(minimos)\n",
    "    minimo=np.max(minimos)\n",
    "    min1=np.asarray(np.where(minimos==minimo))\n",
    "    return minimo,min1\n",
    "\n",
    "minimo,min1=maximinvendedor(mr,indfilas)\n",
    "print('La recompesa siguiendo maximin es de '+str(minimo)+' pesos')\n",
    "print('Conviene pedir', end =\" \")\n",
    "for i in range(len(min1[0,:])):\n",
    "      print(min1[0,i], end =\" \")"
   ]
  },
  {
   "cell_type": "code",
   "execution_count": null,
   "metadata": {},
   "outputs": [],
   "source": [
    "# Valor esperado\n",
    "\n",
    "def vesperadovendedor(mr,indfilas,v):\n",
    "    resp=np.empty(len(indfilas))\n",
    "    for i in range(len(indfilas)):\n",
    "        resp[i]=np.dot(v,mr[i,:])\n",
    "    mejor=np.max(resp)\n",
    "    vesp1=np.asarray(np.where(resp==mejor))\n",
    "    return mejor,vesp1\n",
    "\n",
    "v=np.array([0.05, 0.035, 0.03, 0.2, 0.2, 0.15, 0.15, 0.03, 0.01, 0.1])\n",
    "mejor,vesp1=vesperadovendedor(mr,indfilas,v)\n",
    "print('La recompesa esperada es de '+str(mejor)+' pesos')\n",
    "print('Conviene pedir', end =\" \")\n",
    "for i in range(len(vesp1[0,:])):\n",
    "      print(vesp1[0,i], end =\" \")"
   ]
  }
 ],
 "metadata": {
  "kernelspec": {
   "display_name": "Python 3 (ipykernel)",
   "language": "python",
   "name": "python3"
  },
  "language_info": {
   "codemirror_mode": {
    "name": "ipython",
    "version": 3
   },
   "file_extension": ".py",
   "mimetype": "text/x-python",
   "name": "python",
   "nbconvert_exporter": "python",
   "pygments_lexer": "ipython3",
   "version": "3.10.3"
  },
  "vscode": {
   "interpreter": {
    "hash": "693833a0fc7c056f1ca5189d21d883b455cc93586644e182fabbdbc239f3db61"
   }
  }
 },
 "nbformat": 4,
 "nbformat_minor": 2
}
