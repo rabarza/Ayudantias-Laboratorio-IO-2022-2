{
 "cells": [
  {
   "cell_type": "markdown",
   "id": "e73ad053",
   "metadata": {},
   "source": [
    "# Laboratorio 02 IO\n",
    "\n",
    "Este laboratorio contempla el uso de: indexación de secuencias, comparaciones lógicas ciclos y la definición y uso de funciones. \n",
    "\n",
    "Los ciclos sirven para desarrollar una o más acciones una cantidad de veces, definida por alguna condición o bien de forma arbitraria."
   ]
  },
  {
   "cell_type": "markdown",
   "id": "1ff90cf6",
   "metadata": {},
   "source": [
    "### Indexando secuencias\n",
    "\n",
    "**Más información**\n",
    "\n",
    "-   Introduction to strings and indexing in [Python tutorial, section 3.1.2](http://docs.python.org/tutorial/introduction.html#strings), la sección relevante comienza después de que se introducen los strings. \n",
    "\n",
    "Se puede acceder a objetos individuales en listas utilizando el índice del objeto y paréntesis cuadrados (`[`y `]`):"
   ]
  },
  {
   "cell_type": "code",
   "execution_count": 1,
   "id": "ed841405",
   "metadata": {},
   "outputs": [
    {
     "data": {
      "text/plain": [
       "'perro'"
      ]
     },
     "execution_count": 1,
     "metadata": {},
     "output_type": "execute_result"
    }
   ],
   "source": [
    "#      0         1       2     \n",
    "a = ['perro', 'gato', 'vaca']\n",
    "#     -3         -2     -1\n",
    "a[0]"
   ]
  },
  {
   "cell_type": "code",
   "execution_count": 2,
   "id": "0772c348",
   "metadata": {},
   "outputs": [
    {
     "data": {
      "text/plain": [
       "'gato'"
      ]
     },
     "execution_count": 2,
     "metadata": {},
     "output_type": "execute_result"
    }
   ],
   "source": [
    "a[1]"
   ]
  },
  {
   "cell_type": "code",
   "execution_count": 3,
   "id": "b327a871",
   "metadata": {},
   "outputs": [
    {
     "data": {
      "text/plain": [
       "'vaca'"
      ]
     },
     "execution_count": 3,
     "metadata": {},
     "output_type": "execute_result"
    }
   ],
   "source": [
    "a[2]"
   ]
  },
  {
   "cell_type": "markdown",
   "id": "ccf857c1",
   "metadata": {},
   "source": [
    "Observar que Python (como C pero no como FORTRAN, MATLAB o R) comienza contando los índices desde **cero**.\n",
    "\n",
    "Python provee un atajo para recuperar el último elemento de una lista: usando el índice \"-1\", donde el signo menos indica que estamos recorriendo la lista *de atrás para adelante*. Del mismo modo, el índice \"-2\" nos entrega el penúltimo elemento:"
   ]
  },
  {
   "cell_type": "code",
   "execution_count": 4,
   "id": "913e75f0",
   "metadata": {},
   "outputs": [
    {
     "data": {
      "text/plain": [
       "'gato'"
      ]
     },
     "execution_count": 4,
     "metadata": {},
     "output_type": "execute_result"
    }
   ],
   "source": [
    "a[-2]"
   ]
  },
  {
   "cell_type": "code",
   "execution_count": 10,
   "id": "7311475c",
   "metadata": {},
   "outputs": [
    {
     "data": {
      "text/plain": [
       "'vaca'"
      ]
     },
     "execution_count": 10,
     "metadata": {},
     "output_type": "execute_result"
    }
   ],
   "source": [
    "a[-1]\n",
    "a[len(a)-1]"
   ]
  },
  {
   "cell_type": "code",
   "execution_count": 11,
   "id": "618af7a3",
   "metadata": {},
   "outputs": [
    {
     "data": {
      "text/plain": [
       "3"
      ]
     },
     "execution_count": 11,
     "metadata": {},
     "output_type": "execute_result"
    }
   ],
   "source": [
    "len(a)"
   ]
  },
  {
   "cell_type": "markdown",
   "id": "4a15cb2f",
   "metadata": {},
   "source": [
    "Tal vez sea útil pensar que el índice `a[-1]` es una notación resumida para `a[len(a)-1]`. \n",
    "\n",
    "Recuerde que los strings (como las listas) son también secuencias, y pueden ser indexadas del mismo modo:"
   ]
  },
  {
   "cell_type": "markdown",
   "id": "2cd847e8",
   "metadata": {},
   "source": [
    "### Cortar secuencias\n",
    "\n",
    "**Más información**\n",
    "\n",
    "-   Introduction to strings, indexing and slicing in [Python tutorial, section 3.1.2](http://docs.python.org/tutorial/introduction.html#strings)\n",
    "\n",
    "*Cortar* (*slicing* en inglés) secuencias se puede usar para recuperar más de un elemento. Por ejemplo:"
   ]
  },
  {
   "cell_type": "code",
   "execution_count": 12,
   "id": "0fe6a820",
   "metadata": {},
   "outputs": [
    {
     "data": {
      "text/plain": [
       "'Hol'"
      ]
     },
     "execution_count": 12,
     "metadata": {},
     "output_type": "execute_result"
    }
   ],
   "source": [
    "a = \"Hola Mundo!\"\n",
    "a[0:3]"
   ]
  },
  {
   "cell_type": "markdown",
   "id": "5f766a6f",
   "metadata": {},
   "source": [
    "Al escribir `a[0:3]` solicitamos los elementos con índices 0,1,2. Otro ejemplo:"
   ]
  },
  {
   "cell_type": "code",
   "execution_count": 14,
   "id": "66fda5ab",
   "metadata": {},
   "outputs": [
    {
     "data": {
      "text/plain": [
       "'ola'"
      ]
     },
     "execution_count": 14,
     "metadata": {},
     "output_type": "execute_result"
    }
   ],
   "source": [
    "a[1:4]"
   ]
  },
  {
   "cell_type": "code",
   "execution_count": 15,
   "id": "31d41b5e",
   "metadata": {},
   "outputs": [
    {
     "data": {
      "text/plain": [
       "'Ho'"
      ]
     },
     "execution_count": 15,
     "metadata": {},
     "output_type": "execute_result"
    }
   ],
   "source": [
    "a[0:2]"
   ]
  },
  {
   "cell_type": "code",
   "execution_count": 16,
   "id": "491e74c2",
   "metadata": {},
   "outputs": [
    {
     "data": {
      "text/plain": [
       "'Hola M'"
      ]
     },
     "execution_count": 16,
     "metadata": {},
     "output_type": "execute_result"
    }
   ],
   "source": [
    "a[0:6]"
   ]
  },
  {
   "cell_type": "markdown",
   "id": "881260bc",
   "metadata": {},
   "source": [
    "Se pueden usar índices negativos para referirse al final de la secuencia:"
   ]
  },
  {
   "cell_type": "code",
   "execution_count": 17,
   "id": "dc97c026",
   "metadata": {},
   "outputs": [
    {
     "data": {
      "text/plain": [
       "'Hola Mund'"
      ]
     },
     "execution_count": 17,
     "metadata": {},
     "output_type": "execute_result"
    }
   ],
   "source": [
    "a[0:-2]"
   ]
  },
  {
   "cell_type": "markdown",
   "id": "c48c2ae2",
   "metadata": {},
   "source": [
    "También se puede dejar en blanco el indice inicial o final, y esto devuelve todos los elementos desde el comienzo o el final de la secuencia:"
   ]
  },
  {
   "cell_type": "code",
   "execution_count": 20,
   "id": "f533350a",
   "metadata": {},
   "outputs": [
    {
     "data": {
      "text/plain": [
       "'Hola'"
      ]
     },
     "execution_count": 20,
     "metadata": {},
     "output_type": "execute_result"
    }
   ],
   "source": [
    "a = \"Hola Mundo!\"\n",
    "a[:4]"
   ]
  },
  {
   "cell_type": "code",
   "execution_count": 21,
   "id": "f4c60359",
   "metadata": {},
   "outputs": [
    {
     "data": {
      "text/plain": [
       "'Mundo!'"
      ]
     },
     "execution_count": 21,
     "metadata": {},
     "output_type": "execute_result"
    }
   ],
   "source": [
    "a[5:]"
   ]
  },
  {
   "cell_type": "code",
   "execution_count": 22,
   "id": "80064022",
   "metadata": {},
   "outputs": [
    {
     "data": {
      "text/plain": [
       "'o!'"
      ]
     },
     "execution_count": 22,
     "metadata": {},
     "output_type": "execute_result"
    }
   ],
   "source": [
    "a[-2:]\n"
   ]
  },
  {
   "cell_type": "code",
   "execution_count": 24,
   "id": "a75bf759",
   "metadata": {},
   "outputs": [
    {
     "data": {
      "text/plain": [
       "'Hola Mundo!'"
      ]
     },
     "execution_count": 24,
     "metadata": {},
     "output_type": "execute_result"
    }
   ],
   "source": [
    "a[:]"
   ]
  },
  {
   "cell_type": "markdown",
   "id": "2fb43622",
   "metadata": {},
   "source": [
    "Observe que `a[:]` genera una *copia* de `a`. Para algunas personas, uso de índices para dividir secuencias es contraintuitivo. Para recordar cómo funcionan las divisiones de secuencias, veamos la siguiente cita del [Tutorial de Python (sección 3.1.2)](http://docs.python.org/tutorial/introduction.html#strings):\n",
    "\n",
    "> The best way to remember how slices work is to think of the indices as pointing between characters, with the left edge of the first character numbered 0. Then the right edge of the last character of a string of 5 characters has index 5, for example:\n",
    ">\n",
    ">      +---+---+---+---+---+ \n",
    ">      | H | e | l | l | o |\n",
    ">      +---+---+---+---+---+ \n",
    ">      0   1   2   3   4   5   <-- use for SLICING\n",
    ">     -5  -4  -3  -2  -1       <-- use for SLICING from the end\n",
    ">                                     \n",
    ">\n",
    "> The first row of numbers gives the position of the slicing indices 0...5 in the string; the second row gives the corresponding negative indices. The slice from i to j consists of all characters between the edges labelled i and j, respectively.\n",
    "\n",
    "Lo que hay que recordar es que para *cortar* secuencias uno tiene que pensar que los índices apuntan a un lugar entre los elementos de la secuencia. \n",
    "\n",
    "En cambio, para *indexar* es mejor pensar que los índices se refieren a los elementos de la lista. Aquí hay un gráfico que resume las reglas:\n",
    "\n",
    "       0   1   2   3   4    <-- se usa para INDEXAR \n",
    "      -5  -4  -3  -2  -1    <-- se usa para INDEXAR desde el final\n",
    "     +---+---+---+---+---+        \n",
    "     | H | e | l | l | o |\n",
    "     +---+---+---+---+---+ \n",
    "     0   1   2   3   4   5  <-- se usa para CORTAR\n",
    "    -5  -4  -3  -2  -1      <-- se usa para CORTAR desde el final\n",
    "    \n",
    "Si no estas seguro cuál es el índice correcto, la mejor técnica es jugar con un ejemplo en la consola Python para probar tus parámetros antes o mientras escribes tu programa. "
   ]
  },
  {
   "cell_type": "markdown",
   "id": "1821f5a2",
   "metadata": {},
   "source": [
    "\n",
    "\n",
    "### Modificando Secuencias\n",
    "\n",
    "Como dijimos anteriormente, las listas son *modificables* o \"*mutables*\". Esto significa que podemos reemplazar elementos o porciones de listas por otros objetos. Por ejemplo:"
   ]
  },
  {
   "cell_type": "code",
   "execution_count": 28,
   "id": "fd3b7793",
   "metadata": {},
   "outputs": [
    {
     "data": {
      "text/plain": [
       "[100, 2, 3, 4, 5]"
      ]
     },
     "execution_count": 28,
     "metadata": {},
     "output_type": "execute_result"
    }
   ],
   "source": [
    "a = [1, 2, 3, 4, 5]\n",
    "a[0] = 100 # Modificamos el primer elemento y lo cambiamos al valor 100\n",
    "a"
   ]
  },
  {
   "cell_type": "code",
   "execution_count": 27,
   "id": "4fe6dfa3",
   "metadata": {},
   "outputs": [
    {
     "ename": "TypeError",
     "evalue": "'tuple' object does not support item assignment",
     "output_type": "error",
     "traceback": [
      "\u001b[1;31m---------------------------------------------------------------------------\u001b[0m",
      "\u001b[1;31mTypeError\u001b[0m                                 Traceback (most recent call last)",
      "Input \u001b[1;32mIn [27]\u001b[0m, in \u001b[0;36m<cell line: 2>\u001b[1;34m()\u001b[0m\n\u001b[0;32m      1\u001b[0m a\u001b[38;5;241m=\u001b[39m(\u001b[38;5;241m0\u001b[39m,\u001b[38;5;241m1\u001b[39m,\u001b[38;5;241m2\u001b[39m,\u001b[38;5;241m3\u001b[39m,\u001b[38;5;241m4\u001b[39m)\n\u001b[1;32m----> 2\u001b[0m a[\u001b[38;5;241m0\u001b[39m] \u001b[38;5;241m=\u001b[39m \u001b[38;5;241m100\u001b[39m \n\u001b[0;32m      3\u001b[0m a\n",
      "\u001b[1;31mTypeError\u001b[0m: 'tuple' object does not support item assignment"
     ]
    }
   ],
   "source": [
    "a=(0,1,2,3,4)\n",
    "a[0] = 100 \n",
    "a"
   ]
  },
  {
   "cell_type": "code",
   "execution_count": 29,
   "id": "4097701d",
   "metadata": {},
   "outputs": [
    {
     "data": {
      "text/plain": [
       "[100, 2, 99, 98, 4, 5]"
      ]
     },
     "execution_count": 29,
     "metadata": {},
     "output_type": "execute_result"
    }
   ],
   "source": [
    "a[2:3] = [99,98] # Modificamos los elementos de índices 2 y 3 (tercer y cuarto elemento) por 99 y 98\n",
    "a"
   ]
  },
  {
   "cell_type": "code",
   "execution_count": 42,
   "id": "81f06154",
   "metadata": {},
   "outputs": [],
   "source": [
    "a = \"Yo tenía 9 perritos cuando chico\"\n",
    "# a[9]=5"
   ]
  },
  {
   "cell_type": "markdown",
   "id": "bc82236f",
   "metadata": {},
   "source": [
    "Si por algún motivo queremos modificar los elementos de un string, una buena técnica es usar las herramientas de corte y concatenación. Por ejemplo:"
   ]
  },
  {
   "cell_type": "code",
   "execution_count": 47,
   "id": "162433c0",
   "metadata": {},
   "outputs": [
    {
     "data": {
      "text/plain": [
       "'Yo tenía 5 perritos cuando chico'"
      ]
     },
     "execution_count": 47,
     "metadata": {},
     "output_type": "execute_result"
    }
   ],
   "source": [
    "a = \"Yo tenía 9 perritos cuando chico\"\n",
    "a=a[0:9] #+\"5\"+a[10:]\n",
    "a=a[0:9]+'5' +' perritos cuando chico'\n",
    "a"
   ]
  },
  {
   "cell_type": "markdown",
   "id": "55cf3a65",
   "metadata": {},
   "source": [
    "# Tipo bool (boolean)"
   ]
  },
  {
   "cell_type": "code",
   "execution_count": 51,
   "id": "03f402f9",
   "metadata": {},
   "outputs": [
    {
     "name": "stdout",
     "output_type": "stream",
     "text": [
      "False\n"
     ]
    }
   ],
   "source": [
    "miVariable=False\n",
    "print(miVariable)"
   ]
  },
  {
   "cell_type": "code",
   "execution_count": 53,
   "id": "9c420ba9",
   "metadata": {},
   "outputs": [
    {
     "name": "stdout",
     "output_type": "stream",
     "text": [
      "False\n"
     ]
    }
   ],
   "source": [
    "miVariable=3<2\n",
    "print(miVariable)"
   ]
  },
  {
   "cell_type": "markdown",
   "id": "e99087db",
   "metadata": {},
   "source": [
    "## ¿Para que sirven los booleanos?"
   ]
  },
  {
   "attachments": {
    "image.png": {
     "image/png": "[encoded data removed]"
    }
   },
   "cell_type": "markdown",
   "id": "58a4cf24",
   "metadata": {},
   "source": [
    "![image.png](attachment:image.png)\n"
   ]
  },
  {
   "cell_type": "code",
   "execution_count": 54,
   "id": "a44325c1",
   "metadata": {},
   "outputs": [
    {
     "name": "stdout",
     "output_type": "stream",
     "text": [
      "El resultado fue falso\n"
     ]
    }
   ],
   "source": [
    "if miVariable:\n",
    "    print(\"El resultado fue exitoso\")\n",
    "else:\n",
    "    print(\"El resultado fue falso\")"
   ]
  },
  {
   "cell_type": "markdown",
   "id": "47097d81",
   "metadata": {},
   "source": [
    "### Igualdad e Identidad\n",
    "\n",
    "Una pregunta relacionada concierne la igualdad de objetos. \n",
    "\n",
    "#### Igualdad\n",
    "\n",
    "Los operadores `<`, `>`, `==`, `>=`, `<=`, y `!=`comparan los *valores* de dos objetos. No es necesario que los objetos sean del mismo tipo. Por ejemplo:"
   ]
  },
  {
   "cell_type": "code",
   "execution_count": 64,
   "id": "7427c273",
   "metadata": {},
   "outputs": [
    {
     "data": {
      "text/plain": [
       "float"
      ]
     },
     "execution_count": 64,
     "metadata": {},
     "output_type": "execute_result"
    }
   ],
   "source": [
    "a = 1.0; b = 1\n",
    "type(a)"
   ]
  },
  {
   "cell_type": "code",
   "execution_count": 59,
   "id": "8c480364",
   "metadata": {},
   "outputs": [],
   "source": [
    "a=str(1)\n",
    "b=1"
   ]
  },
  {
   "cell_type": "code",
   "execution_count": 60,
   "id": "7f641dfe",
   "metadata": {},
   "outputs": [
    {
     "data": {
      "text/plain": [
       "str"
      ]
     },
     "execution_count": 60,
     "metadata": {},
     "output_type": "execute_result"
    }
   ],
   "source": [
    "type(a)"
   ]
  },
  {
   "cell_type": "code",
   "execution_count": 61,
   "id": "d28a7aba",
   "metadata": {},
   "outputs": [
    {
     "data": {
      "text/plain": [
       "int"
      ]
     },
     "execution_count": 61,
     "metadata": {},
     "output_type": "execute_result"
    }
   ],
   "source": [
    "type(b)"
   ]
  },
  {
   "cell_type": "code",
   "execution_count": 63,
   "id": "1a99f48c",
   "metadata": {},
   "outputs": [
    {
     "data": {
      "text/plain": [
       "False"
      ]
     },
     "execution_count": 63,
     "metadata": {},
     "output_type": "execute_result"
    }
   ],
   "source": [
    "a ==b"
   ]
  },
  {
   "cell_type": "code",
   "execution_count": 58,
   "id": "5900f5ec",
   "metadata": {},
   "outputs": [
    {
     "data": {
      "text/plain": [
       "False"
      ]
     },
     "execution_count": 58,
     "metadata": {},
     "output_type": "execute_result"
    }
   ],
   "source": [
    "a !=b"
   ]
  },
  {
   "cell_type": "markdown",
   "id": "9eb8de84",
   "metadata": {},
   "source": [
    "Por lo tanto el operador `==` chequea si acaso los valores de dos objetos son iguales. \n",
    "\n",
    "#### Identidad\n",
    "\n",
    "Para chequear si dos objetos `a` y `b` son el mismo (*i.e.* `a` y `b` son referencias al mismo espacio de memoria), podemos usar el operador `is`. Continuando con el ejemplo anterior:"
   ]
  },
  {
   "cell_type": "code",
   "execution_count": 65,
   "id": "323f67e7",
   "metadata": {},
   "outputs": [
    {
     "data": {
      "text/plain": [
       "False"
      ]
     },
     "execution_count": 65,
     "metadata": {},
     "output_type": "execute_result"
    }
   ],
   "source": [
    "a is b"
   ]
  },
  {
   "cell_type": "code",
   "execution_count": 68,
   "id": "cb41c4c0",
   "metadata": {},
   "outputs": [
    {
     "data": {
      "text/plain": [
       "True"
      ]
     },
     "execution_count": 68,
     "metadata": {},
     "output_type": "execute_result"
    }
   ],
   "source": [
    "x=10\n",
    "y=x\n",
    "x is y"
   ]
  },
  {
   "cell_type": "markdown",
   "id": "0a228e61",
   "metadata": {},
   "source": [
    "Lo que muestra que `a` y `b` estan guardados en espacios diferentes de la memoria. \n",
    "\n",
    "#### Ejemplo: Igualdad e Identidad.\n",
    "\n",
    "Consideremos ahora un ejemplo que involucra listas:"
   ]
  },
  {
   "cell_type": "code",
   "execution_count": 75,
   "id": "beae9c03",
   "metadata": {},
   "outputs": [
    {
     "data": {
      "text/plain": [
       "True"
      ]
     },
     "execution_count": 75,
     "metadata": {},
     "output_type": "execute_result"
    }
   ],
   "source": [
    "x = [0, 1, 2]\n",
    "y = x\n",
    "x == y"
   ]
  },
  {
   "cell_type": "code",
   "execution_count": 76,
   "id": "53af425b",
   "metadata": {},
   "outputs": [
    {
     "data": {
      "text/plain": [
       "True"
      ]
     },
     "execution_count": 76,
     "metadata": {},
     "output_type": "execute_result"
    }
   ],
   "source": [
    "x is y"
   ]
  },
  {
   "cell_type": "markdown",
   "id": "e228b19e",
   "metadata": {},
   "source": [
    "Aquí `x` e `y`son referencias al mismo espacio de memoria. Por lo tanto son identicos, y el operador `is()` lo confirma. El punto importante a recordar es que la línea `y=x` crea una nueva referencia `y` al mismo objeto que `x` hace referencia. \n",
    "\n",
    "De este modo, podemos hacer cambios en los elementos de `x`, y estos cambios se verán reflejados en ambas variables `x` e `y`:"
   ]
  },
  {
   "cell_type": "code",
   "execution_count": 77,
   "id": "6096d452",
   "metadata": {},
   "outputs": [
    {
     "name": "stdout",
     "output_type": "stream",
     "text": [
      "[0, 1, 2]\n"
     ]
    }
   ],
   "source": [
    "print(x)"
   ]
  },
  {
   "cell_type": "code",
   "execution_count": 78,
   "id": "a7016105",
   "metadata": {},
   "outputs": [
    {
     "name": "stdout",
     "output_type": "stream",
     "text": [
      "[0, 1, 2]\n"
     ]
    }
   ],
   "source": [
    "print(y)"
   ]
  },
  {
   "cell_type": "code",
   "execution_count": 79,
   "id": "e0d216ed",
   "metadata": {},
   "outputs": [
    {
     "name": "stdout",
     "output_type": "stream",
     "text": [
      "[100, 1, 2]\n"
     ]
    }
   ],
   "source": [
    "x[0]=100\n",
    "print(y)"
   ]
  },
  {
   "cell_type": "markdown",
   "id": "6414f165",
   "metadata": {},
   "source": [
    "Por el contrario, si usamos el comando `z=x[:]` (en vez de `z=x`) para crear una nueva variable `z`, entonces lo que estamos haciendo es crear una copia de la lista a la que `x` hace referencia. La nueva referencia `z`apuntará a la copia de `x` y no a `x`. El *valor* de `x` y `z`es igual, pero `x` y `z`no son el mismo objeto (no son *identicos*):"
   ]
  },
  {
   "cell_type": "code",
   "execution_count": 81,
   "id": "6ab3a895",
   "metadata": {},
   "outputs": [
    {
     "data": {
      "text/plain": [
       "[100, 1, 2]"
      ]
     },
     "execution_count": 81,
     "metadata": {},
     "output_type": "execute_result"
    }
   ],
   "source": [
    "x"
   ]
  },
  {
   "cell_type": "code",
   "execution_count": 82,
   "id": "d462fbf2",
   "metadata": {},
   "outputs": [],
   "source": [
    "z=x[:] #Crea un nuevo objeto de nombre z, que copia los valores de x"
   ]
  },
  {
   "cell_type": "code",
   "execution_count": 83,
   "id": "ec19e7aa",
   "metadata": {},
   "outputs": [
    {
     "data": {
      "text/plain": [
       "True"
      ]
     },
     "execution_count": 83,
     "metadata": {},
     "output_type": "execute_result"
    }
   ],
   "source": [
    "z==x"
   ]
  },
  {
   "cell_type": "code",
   "execution_count": 84,
   "id": "9a9a49dc",
   "metadata": {},
   "outputs": [
    {
     "data": {
      "text/plain": [
       "False"
      ]
     },
     "execution_count": 84,
     "metadata": {},
     "output_type": "execute_result"
    }
   ],
   "source": [
    "z is x"
   ]
  },
  {
   "cell_type": "code",
   "execution_count": 85,
   "id": "8926e0e4",
   "metadata": {},
   "outputs": [
    {
     "name": "stdout",
     "output_type": "stream",
     "text": [
      "2373957999296\n",
      "2373958084032\n"
     ]
    }
   ],
   "source": [
    "print(id(x))\n",
    "print(id(z))"
   ]
  },
  {
   "cell_type": "markdown",
   "id": "2c12a92a",
   "metadata": {},
   "source": [
    "En otras palabras, podemos cambiar x sin cambiar los valores de z"
   ]
  },
  {
   "cell_type": "markdown",
   "id": "35643b1c",
   "metadata": {},
   "source": [
    "Otra forma de copiar los valores es usar el método `copy()`"
   ]
  },
  {
   "cell_type": "code",
   "execution_count": 86,
   "id": "b897eca3",
   "metadata": {},
   "outputs": [
    {
     "data": {
      "text/plain": [
       "[3, 2, 1]"
      ]
     },
     "execution_count": 86,
     "metadata": {},
     "output_type": "execute_result"
    }
   ],
   "source": [
    "a=[1,2,3]\n",
    "\n",
    "b=[3,2,1]\n",
    "\n",
    "a=b.copy()\n",
    "a \n"
   ]
  },
  {
   "cell_type": "code",
   "execution_count": 87,
   "id": "61703353",
   "metadata": {},
   "outputs": [
    {
     "data": {
      "text/plain": [
       "False"
      ]
     },
     "execution_count": 87,
     "metadata": {},
     "output_type": "execute_result"
    }
   ],
   "source": [
    "a is b"
   ]
  },
  {
   "cell_type": "markdown",
   "id": "6a127859",
   "metadata": {},
   "source": [
    "### Condicionales\n",
    "\n",
    "El condicional por defecto es if, el cual implica que si se cumple la condición indicada, la acción se ejecutara.\n",
    "La estructura es siempre \n",
    "\n",
    "if condición: \n",
    "\n",
    "    acción\n",
    "    \n",
    "Note que siempre es necesario el \":\" a la vez que la sangría para la acción"
   ]
  },
  {
   "cell_type": "code",
   "execution_count": 88,
   "id": "e8506445",
   "metadata": {},
   "outputs": [
    {
     "name": "stdout",
     "output_type": "stream",
     "text": [
      "2 es menor que 3, quién lo diría ¡¿no?!\n"
     ]
    }
   ],
   "source": [
    "# Ejemplo de uso de if\n",
    "if 2<3:\n",
    "    print(\"2 es menor que 3, quién lo diría ¡¿no?!\")"
   ]
  },
  {
   "cell_type": "markdown",
   "id": "3e00b1f8",
   "metadata": {},
   "source": [
    "Es posible indicar una acción en caso de que no se cumpla. Para esto usamos else que posee la siguiente estructura\n",
    "\n",
    "if condición:\n",
    "\n",
    "    acción en caso de que se cumpla\n",
    "    \n",
    "else:\n",
    "\n",
    "    acción en caso de que no se cumpla"
   ]
  },
  {
   "cell_type": "code",
   "execution_count": 89,
   "id": "c3f32fa1",
   "metadata": {},
   "outputs": [
    {
     "name": "stdout",
     "output_type": "stream",
     "text": [
      "Es falso\n"
     ]
    }
   ],
   "source": [
    "# Ejemplo if else\n",
    "if 2>3:\n",
    "    print(\"Es verdadero\")\n",
    "else:\n",
    "    print(\"Es falso\")\n",
    "        "
   ]
  },
  {
   "cell_type": "markdown",
   "id": "2cd3ec25",
   "metadata": {},
   "source": [
    "Es posible escribir varios if consecutivos a traves de elif, al que también se le puede añadir un else final para los casos que no fueron filtrados. La estructura es:\n",
    "\n",
    "if condición1:\n",
    "\n",
    "    acción en caso de que se cumpla la primera condición\n",
    "    \n",
    "elif condición2:  \n",
    "\n",
    "    acción si se cumple condición 2 luego de no cumplida la primera\n",
    "    \n",
    "else:\n",
    "\n",
    "    acción en caso de que no se cumpla ningúna de las condiciones"
   ]
  },
  {
   "cell_type": "code",
   "execution_count": 92,
   "id": "b13b16c3",
   "metadata": {},
   "outputs": [
    {
     "name": "stdout",
     "output_type": "stream",
     "text": [
      "el valor está entre 3 y 4\n"
     ]
    }
   ],
   "source": [
    "# Ejemplo elif\n",
    "a=2\n",
    "b=1.5\n",
    "\n",
    "if a+b <= 3:\n",
    "    print(\"es menor que 3\")\n",
    "elif a+b < 4:\n",
    "    print(\"el valor está entre 3 y 4\")\n",
    "elif a+b <5:\n",
    "    print(\"El valor es menor que 5\")\n",
    "else:\n",
    "    print(\"el valor de la suma es mayor o igual a 4\")"
   ]
  },
  {
   "cell_type": "markdown",
   "id": "99e7e8eb",
   "metadata": {},
   "source": [
    "Existe también en Python la opción de poder usar condicionales a través de variables booleanas (True (1) or False (0)).\n",
    "\n",
    "Para esto podemos definir las variables directamente o bien podemos crear condiciones a través del uso de operadores lógicos\n",
    "\n",
    "Ocupamos tres operadores or, and y not"
   ]
  },
  {
   "cell_type": "code",
   "execution_count": 93,
   "id": "785a37f1",
   "metadata": {},
   "outputs": [
    {
     "data": {
      "text/plain": [
       "True"
      ]
     },
     "execution_count": 93,
     "metadata": {},
     "output_type": "execute_result"
    }
   ],
   "source": [
    "# Ejemplos operadores:\n",
    "(2>3) or (2<4)"
   ]
  },
  {
   "cell_type": "code",
   "execution_count": 94,
   "id": "600ddd47",
   "metadata": {},
   "outputs": [
    {
     "data": {
      "text/plain": [
       "False"
      ]
     },
     "execution_count": 94,
     "metadata": {},
     "output_type": "execute_result"
    }
   ],
   "source": [
    "not (2<3)"
   ]
  },
  {
   "cell_type": "code",
   "execution_count": 95,
   "id": "5ffd8fd0",
   "metadata": {},
   "outputs": [
    {
     "data": {
      "text/plain": [
       "True"
      ]
     },
     "execution_count": 95,
     "metadata": {},
     "output_type": "execute_result"
    }
   ],
   "source": [
    "(2<3) and (2<4)"
   ]
  },
  {
   "cell_type": "markdown",
   "id": "6a9a5a34",
   "metadata": {},
   "source": [
    "# Procesar las entradas del usuario (función input)"
   ]
  },
  {
   "cell_type": "code",
   "execution_count": 98,
   "id": "d59eb2e0",
   "metadata": {},
   "outputs": [
    {
     "name": "stdout",
     "output_type": "stream",
     "text": [
      "Inserta una palabra\n",
      "hola\n",
      "hola\n",
      "Fin del programa\n"
     ]
    }
   ],
   "source": [
    "resultado=input(\"Inserta una palabra\\n\")#También se puede agregar un  mensaje input(\"mensaje\")\n",
    "print(resultado)\n",
    "print(\"Fin del programa\")"
   ]
  },
  {
   "cell_type": "code",
   "execution_count": 100,
   "id": "cdafadb0",
   "metadata": {},
   "outputs": [
    {
     "name": "stdout",
     "output_type": "stream",
     "text": [
      "Escribe el primer numero: \n",
      "5\n",
      "Escribe el segundo numero: 4\n",
      "El resultado de la suma es:  9\n"
     ]
    }
   ],
   "source": [
    "numero1=int(input(\"Escribe el primer numero: \\n\")) #Encontrar el error\n",
    "numero2=int(input(\"Escribe el segundo numero: \"))\n",
    "resultado=numero1+numero2\n",
    "print(\"El resultado de la suma es: \", resultado)"
   ]
  },
  {
   "cell_type": "code",
   "execution_count": null,
   "id": "ec5e9655",
   "metadata": {},
   "outputs": [],
   "source": []
  },
  {
   "cell_type": "markdown",
   "id": "aa50836d",
   "metadata": {},
   "source": [
    "# Ciclos\n",
    "\n",
    "## Ciclo FOR\n",
    "Los ciclos for permiten realizar acciones una cantidad fija de veces, dependiende del conjunto de referencia. La estructura es\n",
    "\n",
    "for i in conjunto:\n",
    "\n",
    "    acción\n",
    "    \n",
    "Si solamente se quiere ejecutar una cantidad de veces fija, entonces se puede usar el comando range(a,b) que devuelve los números enteros entre a y b, considerando a y no considerando b    "
   ]
  },
  {
   "cell_type": "code",
   "execution_count": 101,
   "id": "821daa4b",
   "metadata": {},
   "outputs": [
    {
     "name": "stdout",
     "output_type": "stream",
     "text": [
      "2\n",
      "7\n",
      "3\n",
      "7\n"
     ]
    }
   ],
   "source": [
    "#Ejemplo for recorrer vector\n",
    "A=[2,7,3,7]\n",
    "for i in A:\n",
    "    print(i)"
   ]
  },
  {
   "cell_type": "code",
   "execution_count": 102,
   "id": "0eac7943",
   "metadata": {},
   "outputs": [
    {
     "name": "stdout",
     "output_type": "stream",
     "text": [
      "2\n",
      "7\n",
      "3\n",
      "7\n"
     ]
    }
   ],
   "source": [
    "for i in range(len(A)):\n",
    "    print(A[i])"
   ]
  },
  {
   "cell_type": "code",
   "execution_count": 103,
   "id": "739b68a5",
   "metadata": {},
   "outputs": [
    {
     "name": "stdout",
     "output_type": "stream",
     "text": [
      "2\n",
      "7\n",
      "3\n",
      "7\n"
     ]
    }
   ],
   "source": [
    "for i in [0,1,2,3]:\n",
    "    print(A[i])"
   ]
  },
  {
   "cell_type": "code",
   "execution_count": 11,
   "id": "8376d409",
   "metadata": {},
   "outputs": [
    {
     "name": "stdout",
     "output_type": "stream",
     "text": [
      "1\n",
      "2\n",
      "5\n",
      "3\n",
      "7\n",
      "1\n"
     ]
    }
   ],
   "source": [
    "#Ejemplo for recorrer fila de una matriz\n",
    "B=[[1,2,5],\n",
    "   [3,7,1]]\n",
    "for i in range(len(B)):\n",
    "    for j in range(len(B[0])):\n",
    "        print(B[i][j])"
   ]
  },
  {
   "cell_type": "code",
   "execution_count": 116,
   "id": "b5b145fc",
   "metadata": {},
   "outputs": [
    {
     "data": {
      "text/plain": [
       "3"
      ]
     },
     "execution_count": 116,
     "metadata": {},
     "output_type": "execute_result"
    }
   ],
   "source": [
    "len(B)\n",
    "len(B[0])\n",
    "len(B[1])"
   ]
  },
  {
   "cell_type": "markdown",
   "id": "9081c5e9",
   "metadata": {},
   "source": [
    "Es posible recorrer vectores y matrices usando el ciclo for a través de los indices respectivos. \n",
    "Para esto podemos determinar la cantidad de filas y columnas y luego usar range en dos for anidados.\n",
    "Para determina la cantidad de filas y columnas usamos .shape"
   ]
  },
  {
   "cell_type": "code",
   "execution_count": 13,
   "id": "a768f76a",
   "metadata": {},
   "outputs": [
    {
     "name": "stdout",
     "output_type": "stream",
     "text": [
      "1\n",
      "2\n",
      "5\n",
      "7\n",
      "3\n",
      "7\n",
      "1\n",
      "4\n",
      "-2\n",
      "3\n",
      "9\n",
      "12\n"
     ]
    }
   ],
   "source": [
    "#Ejemplo for con range\n",
    "C=np.array([[1,2,5,7],[3,7,1,4],[-2,3,9,12]])\n",
    "rows, columns = len(C),len(C[0])\n",
    "for i in range(rows):\n",
    "    for j in range(columns):\n",
    "        print(C[i,j])"
   ]
  },
  {
   "cell_type": "markdown",
   "id": "860508f9",
   "metadata": {},
   "source": [
    "## Ciclo while\n",
    "\n",
    "Otra forma de hacer ciclos corresponde al ciclo while.\n",
    "A diferencia del ciclo for, el ciclo while permite ejecutar una acción mientras se cumpla una condición. \n",
    "La estructura es\n",
    "```python\n",
    "while condición:\n",
    "\n",
    "    acción\n",
    "```    \n",
    "    "
   ]
  },
  {
   "cell_type": "code",
   "execution_count": 12,
   "id": "45d8757f",
   "metadata": {},
   "outputs": [
    {
     "name": "stdout",
     "output_type": "stream",
     "text": [
      "2\n",
      "7\n",
      "3\n",
      "7\n",
      "44\n"
     ]
    }
   ],
   "source": [
    "D=[2,7,3,7,44,-123,3,6,3]\n",
    "indice=0\n",
    "while D[indice]>=0:\n",
    "    print(D[indice])\n",
    "    indice += 1  #Esto es equivalente a indice = indice + 1"
   ]
  },
  {
   "cell_type": "markdown",
   "id": "a7413e96",
   "metadata": {},
   "source": [
    "# Funciones\n",
    "En Python existen funciones que operan de la misma forma que las funciones matemáticas, es decir,\n",
    "yo les entrego argumentos de entrada y me devuelve uno o más elementos de salida.\n",
    "Hay funciones que ya vienen programadas en Python, como print; hay otras que vienen con los paquetes que incluímos y\n",
    "hay otras que podemos crear.\n",
    "\n",
    "Para definir una función se usa la estructura\n",
    "```python\n",
    "def nombre_función(entradas):\n",
    "\n",
    "    acciones a ejecutar\n",
    "    \n",
    "    return salidas\n",
    "```"
   ]
  },
  {
   "cell_type": "markdown",
   "id": "dab6c466",
   "metadata": {},
   "source": [
    "Por lo general las funciones debiesen ejecutarse de manera \"silenciosa\" (*i.e.* sin imprimir nada) y dar los resultados de su cálculo devolviendo valores."
   ]
  },
  {
   "cell_type": "markdown",
   "id": "cd561140",
   "metadata": {},
   "source": [
    "\n",
    "## Definiendo nuestras propias funciones\n",
    "\n",
    "En Python podemos programar nuestras propias funciones. El formato genérico para definir una función es el siguiente: \n",
    "\n",
    "```python\n",
    "def miFuncion(arg1, arg2, ..., argn):\n",
    "    \"\"\"Texto opcional para la documentación.\"\"\"\n",
    "\n",
    "    # Implementación de la función\n",
    "\n",
    "    return salida  # opcional\n",
    "\n",
    "# Esto ya no es parte de la función\n",
    "algun_comando\n",
    "```"
   ]
  },
  {
   "cell_type": "markdown",
   "id": "a0fbc752",
   "metadata": {},
   "source": [
    "Por ejemplo, la función `bienvenida` definida a continuación imprime el string \"¡Hola Mundo!\". Es una función sin argumentos de entrada y que no devuelve ningún valor. "
   ]
  },
  {
   "cell_type": "code",
   "execution_count": null,
   "id": "c6f222d7",
   "metadata": {},
   "outputs": [],
   "source": [
    "def bienvenida():\n",
    "    print(\"¡Hola Mundo!\")"
   ]
  },
  {
   "cell_type": "markdown",
   "id": "391ee288",
   "metadata": {},
   "source": [
    "Si llamamos esta función"
   ]
  },
  {
   "cell_type": "code",
   "execution_count": null,
   "id": "3871b39f",
   "metadata": {},
   "outputs": [],
   "source": [
    "bienvenida()"
   ]
  },
  {
   "cell_type": "markdown",
   "id": "c32e7c7a",
   "metadata": {},
   "source": [
    "ésta imprime \"¡Hola Mundo!\", como podría esperarse. \n",
    "\n",
    "Asignemos el valor que devuelve esta función a una variable `x`"
   ]
  },
  {
   "cell_type": "code",
   "execution_count": null,
   "id": "9ba655a1",
   "metadata": {},
   "outputs": [],
   "source": [
    "x = bienvenida()\n"
   ]
  },
  {
   "cell_type": "code",
   "execution_count": null,
   "id": "7168efa8",
   "metadata": {},
   "outputs": [],
   "source": [
    "def muchasBienvenidas(n): \n",
    "    print(n * \"¡Hola Mundo! \")"
   ]
  },
  {
   "cell_type": "markdown",
   "id": "14fb3fe6",
   "metadata": {},
   "source": [
    "En este caso la función `muchasBienvenidas` tiene un argumento `n`. La función imprime el string `¡Hola Mundo! ` repetido `n` veces."
   ]
  },
  {
   "cell_type": "markdown",
   "id": "6c3edf64",
   "metadata": {},
   "source": [
    "Por lo general, las funciones que devuelven valores son más útiles, ya que se pueden combinar con otros códigos, incluyendo otras funciones. Veamos algunos ejemplos de funciones que devuelven un valor.\n",
    "\n",
    "Supongamos que necesitamos definir una función que calcule el cuadrado de una variable. El código de la función podría ser:"
   ]
  },
  {
   "cell_type": "code",
   "execution_count": null,
   "id": "826004cb",
   "metadata": {},
   "outputs": [],
   "source": [
    "def cuadrado(x):\n",
    "    salida = x * x\n",
    "    return salida"
   ]
  },
  {
   "cell_type": "markdown",
   "id": "a036008a",
   "metadata": {},
   "source": [
    "La palabra clave `def` le dice a Python que en ese punto estamos *definiendo* una función. Esta función toma un argumento (`x`). La función *devuelve* `x * x`, que por supuesto vale $x^2$. \n",
    "\n",
    "Esta función puede ser llamada luego en otras partes del código:"
   ]
  },
  {
   "cell_type": "code",
   "execution_count": null,
   "id": "faa721a7",
   "metadata": {},
   "outputs": [],
   "source": [
    "def cuadrado(x):\n",
    "    salida = x * x\n",
    "    return salida\n",
    "\n",
    "for i in range(5):\n",
    "    i2 = cuadrado(i)\n",
    "    print(i, '*', i, '=', i2)"
   ]
  },
  {
   "cell_type": "markdown",
   "id": "879a2142",
   "metadata": {},
   "source": [
    "Observamos que las líneas 1,2,3 definen la función `cuadrado`, mientras las líneas 5,6,7 son el **programa principal** (\"main program\")"
   ]
  },
  {
   "cell_type": "markdown",
   "id": "c0d15931",
   "metadata": {},
   "source": [
    "Podemos definir funciones de más de un argumento:"
   ]
  },
  {
   "cell_type": "code",
   "execution_count": null,
   "id": "fafdb519",
   "metadata": {},
   "outputs": [],
   "source": [
    "import math\n",
    "\n",
    "def hipotenusa(x, y):\n",
    "    salida = math.sqrt(x * x + y * y)\n",
    "    return salida\n",
    "\n",
    "for x in range(1,3):\n",
    "    for y in range(4,7):\n",
    "        print(\"La hipotenusa del triángulo rectángulo de lados\", x, \"y\", y, \"vale\", hipotenusa(x,y))"
   ]
  },
  {
   "cell_type": "markdown",
   "id": "42dee4ed",
   "metadata": {},
   "source": [
    "También es posible devolver más de un argumento. La función en el siguiente ejemplo recibe un string y devuelve dos versiones, una con todos sus caracteres escritos en mayúsculas y la otra con todos en minúsculas:"
   ]
  },
  {
   "cell_type": "code",
   "execution_count": null,
   "id": "1561d968",
   "metadata": {},
   "outputs": [],
   "source": [
    "def upperAndLower(string):\n",
    "    return string.upper(), string.lower()\n",
    "\n",
    "palabra = 'Hola Mundo'\n",
    "\n",
    "mayus, minus = upperAndLower(palabra)\n",
    "\n",
    "print(palabra, 'en minúsculas:', minus)\n",
    "print(palabra, 'en mayúsculas:', mayus)"
   ]
  },
  {
   "cell_type": "markdown",
   "id": "30448c28",
   "metadata": {},
   "source": [
    "### Ejercicios (para la casa)"
   ]
  },
  {
   "cell_type": "markdown",
   "id": "285f44dd",
   "metadata": {},
   "source": [
    "-------\n",
    "### Ejercicio\n",
    "\n",
    "1. Escriba una función llamada `justificarDerecha` que tenga como argumentos dos strings `texto1` y `texto2` e imprima en dos líneas los strings justificados a la derecha. Por ejemplo:\n",
    "\n",
    "```python\n",
    "justificarDerecha(\"Hola como estas?\", \"bien\")\n",
    "\n",
    "Hola como estas?\n",
    "           bien!\n",
    "```\n"
   ]
  },
  {
   "cell_type": "code",
   "execution_count": 20,
   "id": "e4a89700",
   "metadata": {},
   "outputs": [
    {
     "name": "stdout",
     "output_type": "stream",
     "text": [
      "Hola como estas?\n",
      "           bien!\n"
     ]
    }
   ],
   "source": [
    "# Escribe aquí tu solución\n",
    "def justificarDerecha(string1, string2):\n",
    "    largo1=len(string1)\n",
    "    largo2=len(string2)\n",
    "\n",
    "    maximo_largo=max(largo1,largo2)\n",
    "    minimo_largo=min(largo1,largo2)\n",
    "\n",
    "    espacios=maximo_largo-minimo_largo\n",
    "\n",
    "    if largo1>largo2:\n",
    "        print(string1)\n",
    "        print(espacios*' ' + string2)\n",
    "    elif largo2>largo1:\n",
    "        print(espacios*' ' + string1)\n",
    "        print(string2)\n",
    "    else:\n",
    "        print(string1)\n",
    "        print(string2)\n",
    "justificarDerecha(\"Hola como estas?\",\"bien!\")"
   ]
  },
  {
   "cell_type": "markdown",
   "id": "6c3f6c40",
   "metadata": {},
   "source": [
    "2. Escriba una función `dibujarGrilla` que reciba dos enteros entero `n` y `k` y dibuje una grilla de `n` por `n` cuadrados, cada uno de lado `k` \"guiones\". Por ejemplo, `dibujarGrilla(3,4)` imprime:\n",
    "\n",
    "```python\n",
    "+--------+--------+--------+\n",
    "|        |        |        |\n",
    "|        |        |        |\n",
    "|        |        |        |\n",
    "|        |        |        |\n",
    "+--------+--------+--------+\n",
    "|        |        |        |\n",
    "|        |        |        |\n",
    "|        |        |        |\n",
    "|        |        |        |\n",
    "+--------+--------+--------+\n",
    "|        |        |        |\n",
    "|        |        |        |\n",
    "|        |        |        |\n",
    "|        |        |        |\n",
    "+--------+--------+--------+\n",
    "```\n",
    "\n",
    "(fuente: http://greenteapress.com/thinkpython/html/thinkpython004.html#toc39)"
   ]
  },
  {
   "cell_type": "code",
   "execution_count": 49,
   "id": "ca818e86",
   "metadata": {},
   "outputs": [
    {
     "name": "stdout",
     "output_type": "stream",
     "text": [
      "+--------+--------+--------+\n",
      "|        |        |        |\n",
      "|        |        |        |\n",
      "|        |        |        |\n",
      "|        |        |        |\n",
      "+--------+--------+--------+\n",
      "|        |        |        |\n",
      "|        |        |        |\n",
      "|        |        |        |\n",
      "|        |        |        |\n",
      "+--------+--------+--------+\n",
      "|        |        |        |\n",
      "|        |        |        |\n",
      "|        |        |        |\n",
      "|        |        |        |\n",
      "+--------+--------+--------+\n"
     ]
    }
   ],
   "source": [
    "# Escribe aquí tu solución\n",
    "def dibujarGrilla(n, k):\n",
    "    \n",
    "    horizontal=\"+\"+2*k*\"-\"+\"+\"\n",
    "    horizontal=horizontal+(n-1)*(2*k*\"-\"+\"+\")\n",
    "    \n",
    "    vertical=\"|\"+ 2*k*\" \" + \"|\"\n",
    "    vertical=vertical+(n-1)*(2*k*\" \"+\"|\")\n",
    "\n",
    "    for i in range(n):\n",
    "        print(horizontal)\n",
    "        for j in range(k):\n",
    "            print(vertical)\n",
    "    print(horizontal)\n",
    "\n",
    "dibujarGrilla(3,4)"
   ]
  },
  {
   "cell_type": "markdown",
   "id": "ca23a683",
   "metadata": {},
   "source": [
    "3. Un entero se dice creciente si cada uno de sus dígitos es menor que el siguiente. Por ejemplo `578` es creciente y `65` no es creciente. Por convención diremos que un entero positivo menor que `10` es creciente. \n",
    "Escriba una función llamada `es_creciente`, que recibe un entero positivo `numero` y devuelve `True` o `False` dependiendo de si `numero` es creciente. "
   ]
  },
  {
   "cell_type": "code",
   "execution_count": 75,
   "id": "ef93bed8",
   "metadata": {},
   "outputs": [
    {
     "name": "stdout",
     "output_type": "stream",
     "text": [
      "True\n",
      "False\n"
     ]
    }
   ],
   "source": [
    "# Escriba aquí su solución\n",
    "def es_creciente(numero):\n",
    "    resultado=True\n",
    "\n",
    "    numero=str(numero)\n",
    "    digitos=[]\n",
    "    for digito in range(len(numero)):\n",
    "        digitos.append(int(numero[digito]))\n",
    "    \n",
    "    for i in range(len(digitos)):\n",
    "        if i+1 < len(digitos):\n",
    "            if digitos[i]>digitos[i+1]:\n",
    "                resultado=False\n",
    "\n",
    "    return resultado\n",
    "\n",
    "print(es_creciente(578))\n",
    "print(es_creciente(65))\n",
    "    "
   ]
  }
 ],
 "metadata": {
  "kernelspec": {
   "display_name": "Python 3 (ipykernel)",
   "language": "python",
   "name": "python3"
  },
  "language_info": {
   "codemirror_mode": {
    "name": "ipython",
    "version": 3
   },
   "file_extension": ".py",
   "mimetype": "text/x-python",
   "name": "python",
   "nbconvert_exporter": "python",
   "pygments_lexer": "ipython3",
   "version": "3.10.3"
  },
  "vscode": {
   "interpreter": {
    "hash": "693833a0fc7c056f1ca5189d21d883b455cc93586644e182fabbdbc239f3db61"
   }
  }
 },
 "nbformat": 4,
 "nbformat_minor": 5
}
