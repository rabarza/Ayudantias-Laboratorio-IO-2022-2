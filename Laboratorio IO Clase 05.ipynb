{
 "cells": [
  {
   "cell_type": "markdown",
   "metadata": {},
   "source": [
    "### Si bien este laboratorio es corto, se pide trabajar de forma lenta con los estudiantes, ya que programación dinámica estocástica es un tema que les cuesta mucho. Por lo tanto ideal ir viendo paso a paso.\n",
    "\n"
   ]
  },
  {
   "cell_type": "markdown",
   "metadata": {},
   "source": [
    "Un papá debe decidir todos los días hábiles de la semana (lunes a viernes) si lleva, o no, a su hija al jardín. \n",
    "\n",
    "Si la niña va sana al jardín, la probabilidad de que amanezca enferma al día siguiente es 0.3 y si la niña va enferma al jardín, la probabilidad que siga enferma al día siguiente es 0.8. Cada día que amanece enferma, la familia debe gastar \\$5.000 en medicamentos (incluso los fines de semana). \n",
    "\n",
    "En caso de que el papá elija no llevar a su hija al jardín (independiente de si está enferma o sana), debe pagar a una persona cuidadora un costo de \\$10.000 por el día. Cuando la niña se queda en casa, con seguridad amanece sana al día siguiente (independiente de si estaba sana o enferma).\n",
    "\n",
    "Se desea estudiar la situación para los próximos K días de la semana, siendo el K-ésimo el día viernes, sabiendo que el sábado la familia debe irse de viaje. En caso que la hija amanezca enferma el día sábado, la familia no podrá viajar lo que representa un costo de \\$20.000 (que no incluye los medicamentos).\n",
    "\n",
    "Para esto se ha formulado el siguiente modelo de programación dínamica\n",
    "\n",
    "**Etapas**\n",
    "\n",
    "$K$, una por cada día.\n",
    "\n",
    "**Variables de decisión**:\n",
    "\n",
    "$\n",
    "X_n= \\left\\{\\begin{array}{cl}\n",
    "\t1& \\text{si la niña asiste al jardín el día $n$} \\\\\n",
    "\t0& \\text{si la niña no asiste al jardín el día $n$} \\\\\n",
    "\\end{array}\\right.\n",
    "$ \n",
    "\n",
    "**Variables de estado**: \n",
    "\n",
    "$X_n= \\left\\{\\begin{array}{cl}\n",
    "\t1& \\text{si la niña amanece sana el día $n$} \\\\\n",
    "\t0& \\text{si la niña amanece enferma el día $n$} \\\\\n",
    "\\end{array}\\right.$ \n",
    "\n",
    "**Reglas de transformación** \n",
    "\n",
    "$S_{n+1}=\\left\\{\\begin{array}{ccl}\n",
    "\t1& \\text{si} & X_n=0 \\\\\n",
    "\t1& \\text{si} & X_n=1, S_n=1, \\text{ con } p=0.3 \\\\\n",
    "\t0& \\text{si} & X_n=1, S_n=1, \\text{ con } p=0.7 \\\\\n",
    "\t1& \\text{si} & X_n=1, S_n=0, \\text{ con } p=0.2 \\\\\n",
    "\t0& \\text{si} & X_n=1, S_n=0, \\text{ con } p=0.8 \\\\    \n",
    "\\end{array}\\right.$ \n",
    "\n",
    "**Función de recompensa**\n",
    "\n",
    "$R_n(S_n,X_n) = 5000(1-S_n)+10000(1-X_n)$\n",
    "\n",
    "**Función recursiva**\n",
    "\n",
    "$f_n(S_n,X_n)=\\mathbb{E}(R_n(S_n,X_n)+f_{n+1}^*(S_{n+1}))$, para todo $n$.\n",
    "\n",
    "**Función objetivo** \n",
    "\n",
    "$\\displaystyle f_n^*(S_n)=\\max_{X_n} (f_n(S_n,X_n))$ para todo $n$.\n",
    "\n",
    "**Condiciones**\n",
    "\n",
    "$f_{K+1}^*(S_{K+1})=25000(1-S_{K+1})$\n",
    "\n",
    "**Restricciones**\n",
    "\n",
    "$X_n, S_n \\geq 0$, enteras, para todo $n$.\n",
    "\n"
   ]
  },
  {
   "cell_type": "markdown",
   "metadata": {},
   "source": [
    "En primer lugar necesitamos definir tres funciones: la función de transformación (función de actualización de la variable de estado), función de recompensa y la función recursiva.\n",
    "\n",
    "Para las etapas usaremos un arreglo de tres dimensiones, la primera dimensión corresponderá a las distinas etapas, la segunda a los valores de la variable de estado y la tercera a los valores de la variable de decisión. Como en este caso es posible asignar cualquier cantidad de equipos médicos a un país (respetando las restricciones) las filas van de $0$ a $R$, al igual que las columnas.\n",
    "\n",
    "Asignaremos el valor -1 para inicializar las matrices de las etapas, a fin de poder determinar aquellas celdas infactibles."
   ]
  },
  {
   "cell_type": "code",
   "execution_count": 57,
   "metadata": {},
   "outputs": [],
   "source": [
    "def funcion_recompensa(S,X):\n",
    "    R = 5000*(1-S)+10000*(1-X)\n",
    "    return R"
   ]
  },
  {
   "cell_type": "code",
   "execution_count": 60,
   "metadata": {},
   "outputs": [],
   "source": [
    "import numpy as np\n",
    "def jardin(T): # T será la cantidad de días.\n",
    "    etapas = -1*np.ones((T,2,2)) # generamos las T etapas, cada una con 2 filas y 2 columnas ya que hay dos estados posibles.\n",
    "    #generamos la última tabla, la condición de borde\n",
    "    mejores = np.zeros((2,T+1)) # generamos la matriz para los óptimos.\n",
    "    mejores[0,T] = 25000\n",
    "    mejores[1,T] = 0\n",
    "    for k in range(T-1,-1,-1):\n",
    "        for i in range(2):\n",
    "            for j in range(2):\n",
    "                if j==0:\n",
    "                    etapas[k,i,j]=funcion_recompensa(i,j)+mejores[1,k+1] # calculamos el valor actual y le sumamos la parte recursiva\n",
    "                elif j==1 and i==0:\n",
    "                    etapas[k,i,j]=funcion_recompensa(i,j)+0.8*mejores[0,k+1]+0.2*mejores[1,k+1] \n",
    "                elif j==1 and i==1:\n",
    "                    etapas[k,i,j]=funcion_recompensa(i,j)+0.3*mejores[0,k+1]+0.7*mejores[1,k+1] \n",
    "                    # calculamos el valor actual y le sumamos la parte recursiva\n",
    "                    # de esta forma, calculamos la cantidad de equpos sobrantes, correspondientes a los\n",
    "                # que tenemos menos los que asignamos.\n",
    "            mejores[i,k]=np.min(etapas[k,i,:]) # para cada fila, determinamos el mejor valor posible.\n",
    "    return etapas,mejores"
   ]
  },
  {
   "cell_type": "code",
   "execution_count": 83,
   "metadata": {},
   "outputs": [
    {
     "name": "stdout",
     "output_type": "stream",
     "text": [
      "[[[24750. 21750.]\n",
      "  [19750. 12375.]]\n",
      "\n",
      " [[22500. 18500.]\n",
      "  [17500.  9750.]]\n",
      "\n",
      " [[15000. 25000.]\n",
      "  [10000.  7500.]]]\n",
      "[[21750. 18500. 15000. 25000.]\n",
      " [12375.  9750.  7500.     0.]]\n"
     ]
    }
   ],
   "source": [
    "a,b = jardin(3)\n",
    "print(a)\n",
    "print(b)"
   ]
  },
  {
   "cell_type": "code",
   "execution_count": 87,
   "metadata": {},
   "outputs": [],
   "source": [
    "# Ahora generaremos una metodología para poder determinar las decisiones a tomar.\n",
    "def politicaoptima(a):\n",
    "    rows, columns = b.shape\n",
    "    decision = np.zeros((2,columns-1))\n",
    "    for i in range(3):\n",
    "        for j in range(2):\n",
    "            if a[i,j,0] > a[i,j,1]:\n",
    "                decision[j,i]=1\n",
    "    return decision"
   ]
  },
  {
   "cell_type": "code",
   "execution_count": 88,
   "metadata": {},
   "outputs": [
    {
     "name": "stdout",
     "output_type": "stream",
     "text": [
      "[[1. 1. 0.]\n",
      " [1. 1. 1.]]\n"
     ]
    }
   ],
   "source": [
    "policy=politicaoptima(a)\n",
    "print(policy)"
   ]
  },
  {
   "cell_type": "markdown",
   "metadata": {},
   "source": [
    "Notemos que para este caso, tenemos que en las etapas 1 y 2 conviene mandar a la niña al colegio. Para la etapa 3 (viernes) conviene no mandarla si está enferma (primera fila) y mandarla si está sana (segunda fila)."
   ]
  },
  {
   "cell_type": "code",
   "execution_count": null,
   "metadata": {},
   "outputs": [],
   "source": []
  }
 ],
 "metadata": {
  "kernelspec": {
   "display_name": "Python 3",
   "language": "python",
   "name": "python3"
  },
  "language_info": {
   "codemirror_mode": {
    "name": "ipython",
    "version": 3
   },
   "file_extension": ".py",
   "mimetype": "text/x-python",
   "name": "python",
   "nbconvert_exporter": "python",
   "pygments_lexer": "ipython3",
   "version": "3.7.4"
  }
 },
 "nbformat": 4,
 "nbformat_minor": 2
}
