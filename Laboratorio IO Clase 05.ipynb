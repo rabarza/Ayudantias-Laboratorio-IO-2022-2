{
 "cells": [
  {
   "cell_type": "markdown",
   "metadata": {
    "pycharm": {
     "name": "#%% md\n"
    }
   },
   "source": [
    "Un papá debe decidir todos los días hábiles de la semana (lunes a viernes) si lleva, o no, a su hija al jardín. \n",
    "\n",
    "Si la niña va sana al jardín, la probabilidad de que amanezca enferma al día siguiente es 0.3 y si la niña va enferma al jardín, la probabilidad que siga enferma al día siguiente es 0.8. Cada día que amanece enferma, la familia debe gastar \\$5.000 en medicamentos (incluso los fines de semana). \n",
    "\n",
    "En caso de que el papá elija no llevar a su hija al jardín (independiente de si está enferma o sana), debe pagar a una persona cuidadora un costo de \\$10.000 por el día. Cuando la niña se queda en casa, con seguridad amanece sana al día siguiente (independiente de si estaba sana o enferma).\n",
    "\n",
    "Se desea estudiar la situación para los próximos K días de la semana, siendo el K-ésimo el día viernes, sabiendo que el sábado la familia debe irse de viaje. En caso que la hija amanezca enferma el día sábado, la familia no podrá viajar lo que representa un costo de \\$20.000 (que no incluye los medicamentos).\n",
    "\n",
    "Para esto se ha formulado el siguiente modelo de programación dínamica\n",
    "\n",
    "**Etapas**\n",
    "\n",
    "$K$, una por cada día.\n",
    "\n",
    "**Variables de decisión**:\n",
    "\n",
    "$$\n",
    "X_n= \\left\\{\\begin{array}{cl}\n",
    "\t1& \\text{si la niña asiste al jardín el día $n$} \\\\\n",
    "\t0& \\text{si la niña no asiste al jardín el día $n$} \\\\\n",
    "\\end{array}\\right.\n",
    "$$\n",
    "\n",
    "**Variables de estado**: \n",
    "\n",
    "$$S_n= \\left\\{\\begin{array}{cl}\n",
    "\t1& \\text{si la niña amanece sana el día $n$} \\\\\n",
    "\t0& \\text{si la niña amanece enferma el día $n$} \\\\\n",
    "\\end{array}\\right.$$\n",
    "\n",
    "**Reglas de transformación** \n",
    "\n",
    "$S_{n+1}=\\left\\{\\begin{array}{ccl}\n",
    "\t1& \\text{si} & X_n=0 \\\\\n",
    "\t1& \\text{si} & X_n=1, S_n=1, \\text{ con } p=0.3 \\\\\n",
    "\t0& \\text{si} & X_n=1, S_n=1, \\text{ con } p=0.7 \\\\\n",
    "\t1& \\text{si} & X_n=1, S_n=0, \\text{ con } p=0.2 \\\\\n",
    "\t0& \\text{si} & X_n=1, S_n=0, \\text{ con } p=0.8 \\\\    \n",
    "\\end{array}\\right.$ \n",
    "\n",
    "**Función de recompensa**\n",
    "\n",
    "$R_n(S_n,X_n) = 5000(1-S_n)+10000(1-X_n)$\n",
    "\n",
    "**Función recursiva**\n",
    "\n",
    "$f_n(S_n,X_n)=\\mathbb{E}(R_n(S_n,X_n)+f_{n+1}^*(S_{n+1}))$, para todo $n$.\n",
    "\n",
    "**Función objetivo** \n",
    "\n",
    "$\\displaystyle f_n^*(S_n)=\\min_{X_n} (f_n(S_n,X_n))$ para todo $n$.\n",
    "\n",
    "**Condiciones**\n",
    "\n",
    "$f_{K+1}^*(S_{K+1})=25000(1-S_{K+1})$\n",
    "\n",
    "**Restricciones**\n",
    "\n",
    "$X_n, S_n \\geq 0$, enteras, para todo $n$.\n",
    "\n"
   ]
  },
  {
   "cell_type": "markdown",
   "metadata": {
    "pycharm": {
     "name": "#%% md\n"
    }
   },
   "source": [
    "En primer lugar necesitamos definir tres funciones: la función de transformación (función de actualización de la variable de estado), función de recompensa y la función recursiva.\n",
    "\n",
    "Para las etapas usaremos un arreglo de tres dimensiones, la primera dimensión corresponderá a las distinas etapas, la segunda a los valores de la variable de estado y la tercera a los valores de la variable de decisión. Como en este caso es posible asignar cualquier cantidad de equipos médicos a un país (respetando las restricciones) las filas van de $0$ a $R$, al igual que las columnas.\n",
    "\n",
    "Asignaremos el valor -1 para inicializar las matrices de las etapas, a fin de poder determinar aquellas celdas infactibles."
   ]
  },
  {
   "cell_type": "code",
   "execution_count": 1,
   "metadata": {},
   "outputs": [],
   "source": [
    "K=5#lunes,martes,mier,jueve,viern\n",
    "etapas=K+1#lunes,martes,mier,jueve,viern,sabado\n",
    "\n",
    "decisiones=2 #0 no asiste, 1 si asiste\n",
    "\n",
    "estados=2 #0 si esta enferma, 1 si esta sana\n"
   ]
  },
  {
   "cell_type": "code",
   "execution_count": 2,
   "metadata": {},
   "outputs": [
    {
     "data": {
      "text/plain": [
       "range(0, 6)"
      ]
     },
     "execution_count": 2,
     "metadata": {},
     "output_type": "execute_result"
    }
   ],
   "source": [
    "range(etapas)"
   ]
  },
  {
   "cell_type": "code",
   "execution_count": 3,
   "metadata": {},
   "outputs": [],
   "source": [
    "def funcion_recompensa(S,X):\n",
    "    recompensa=5000*(1-S)+10000*(1-X)\n",
    "    return recompensa"
   ]
  },
  {
   "cell_type": "code",
   "execution_count": 4,
   "metadata": {},
   "outputs": [],
   "source": [
    "import numpy as np"
   ]
  },
  {
   "cell_type": "code",
   "execution_count": 5,
   "metadata": {},
   "outputs": [
    {
     "name": "stdout",
     "output_type": "stream",
     "text": [
      "5\n",
      "4\n",
      "3\n",
      "2\n",
      "1\n",
      "0\n",
      "\n",
      "Etapas: 6\n"
     ]
    }
   ],
   "source": [
    "for i in reversed(range(etapas)):\n",
    "    print(i)\n",
    "print('\\nEtapas:',etapas)"
   ]
  },
  {
   "cell_type": "code",
   "execution_count": 12,
   "metadata": {},
   "outputs": [],
   "source": [
    "K=3#lunes,martes,mier,jueve,viern\n",
    "etapas=K+1#lunes,martes,mier,jueve,viern,sabado"
   ]
  },
  {
   "cell_type": "code",
   "execution_count": 13,
   "metadata": {},
   "outputs": [],
   "source": [
    "ETAPAS=[]\n",
    "\n",
    "for i in reversed(range(etapas)):\n",
    "    tabla=np.ones((estados,decisiones+2))*float('inf')\n",
    "    for s in range(estados):\n",
    "        for x in range(decisiones):\n",
    "            if i==etapas-1: #sabado\n",
    "                tabla[s,x]=25000*(1-s)\n",
    "            else: #lunes, martes, miercoles, jueves, viernes\n",
    "                if x==0:# si no asiste\n",
    "                    optimoAnteriorEsp=1*ETAPAS[0][1,decisiones+1]\n",
    "                    tabla[s,x]=funcion_recompensa(s,x)+optimoAnteriorEsp\n",
    "                if x==1 and s==1:\n",
    "                    optimoAnteriorEsp=0.3*ETAPAS[0][1,decisiones+1]+0.7*ETAPAS[0][0,decisiones+1]\n",
    "                    tabla[s,x]=funcion_recompensa(s,x)+optimoAnteriorEsp\n",
    "                if x==1 and s==0:\n",
    "                    optimoAnteriorEsp=0.2*ETAPAS[0][1,decisiones+1]+0.8*ETAPAS[0][0,decisiones+1]\n",
    "                    tabla[s,x]=funcion_recompensa(s,x)+optimoAnteriorEsp\n",
    "                    \n",
    "            if tabla[s,x]<tabla[s,decisiones+1]:\n",
    "                tabla[s,decisiones+1]=tabla[s,x] #reemplazo Fx por el menor valor\n",
    "                tabla[s,decisiones]=x\n",
    "                \n",
    "                \n",
    "    ETAPAS.insert(0,tabla)\n",
    "            "
   ]
  },
  {
   "cell_type": "code",
   "execution_count": 14,
   "metadata": {},
   "outputs": [],
   "source": [
    "from tabulate import tabulate"
   ]
  },
  {
   "cell_type": "code",
   "execution_count": 15,
   "metadata": {},
   "outputs": [
    {
     "name": "stdout",
     "output_type": "stream",
     "text": [
      "\n",
      "Dia lunes\n",
      "     0      1    X*    Fx*\n",
      "-----  -----  ----  -----\n",
      "28500  22900     1  22900\n",
      "23500  17350     1  17350\n",
      "\n",
      "Dia martes\n",
      "     0      1    X*    Fx*\n",
      "-----  -----  ----  -----\n",
      "25000  19000     1  19000\n",
      "20000  13500     1  13500\n",
      "\n",
      "Dia miercoles\n",
      "     0      1    X*    Fx*\n",
      "-----  -----  ----  -----\n",
      "15000  25000     0  15000\n",
      "10000  17500     0  10000\n",
      "\n",
      "Dia jueves\n",
      "     0      1    X*    Fx*\n",
      "-----  -----  ----  -----\n",
      "25000  25000     0  25000\n",
      "    0      0     0      0\n"
     ]
    }
   ],
   "source": [
    "for dia,etapa in zip(['lunes','martes','miercoles','jueves','viernes','Sabado'],ETAPAS):\n",
    "    print(f'\\nDia {dia}\\n',tabulate(etapa,headers='0 1 X* Fx*'.split()))\n",
    "    "
   ]
  },
  {
   "cell_type": "code",
   "execution_count": 16,
   "metadata": {},
   "outputs": [],
   "source": [
    "ETAPAS=[]\n",
    "\n",
    "for i in reversed(range(etapas)):\n",
    "    tabla=np.ones((estados,decisiones+2))*float('inf')\n",
    "    for s in range(estados):\n",
    "        for x in range(decisiones):\n",
    "            if i==etapas-1: #sabado\n",
    "                tabla[s,x]=25000*(1-s)\n",
    "            else: #lunes, martes, miercoles, jueves, viernes\n",
    "                if x==0:# si no asiste\n",
    "                    optimoAnteriorEsp=1*ETAPAS[0][1,decisiones+1]\n",
    "                    tabla[s,x]=funcion_recompensa(s,x)+optimoAnteriorEsp\n",
    "                if x==1 and s==1:\n",
    "                    optimoAnteriorEsp=0.3*ETAPAS[0][1,decisiones+1]+0.7*ETAPAS[0][0,decisiones+1]\n",
    "                    tabla[s,x]=funcion_recompensa(s,x)+optimoAnteriorEsp\n",
    "                if x==1 and s==0:\n",
    "                    optimoAnteriorEsp=0.2*ETAPAS[0][1,decisiones+1]+0.8*ETAPAS[0][0,decisiones+1]\n",
    "                    tabla[s,x]=funcion_recompensa(s,x)+optimoAnteriorEsp\n",
    "                    \n",
    "            if tabla[s,x]<tabla[s,decisiones+1]:\n",
    "                tabla[s,decisiones+1]=tabla[s,x] #reemplazo Fx por el menor valor\n",
    "                tabla[s,decisiones]=x\n",
    "                \n",
    "                \n",
    "    ETAPAS.insert(0,tabla)"
   ]
  },
  {
   "cell_type": "code",
   "execution_count": 17,
   "metadata": {},
   "outputs": [
    {
     "name": "stdout",
     "output_type": "stream",
     "text": [
      "\n",
      "Dia miercoles\n",
      "     0      1    X*    Fx*\n",
      "-----  -----  ----  -----\n",
      "28500  22900     1  22900\n",
      "23500  17350     1  17350\n",
      "\n",
      "Dia jueves\n",
      "     0      1    X*    Fx*\n",
      "-----  -----  ----  -----\n",
      "25000  19000     1  19000\n",
      "20000  13500     1  13500\n",
      "\n",
      "Dia viernes\n",
      "     0      1    X*    Fx*\n",
      "-----  -----  ----  -----\n",
      "15000  25000     0  15000\n",
      "10000  17500     0  10000\n",
      "\n",
      "Dia Sabado\n",
      "     0      1    X*    Fx*\n",
      "-----  -----  ----  -----\n",
      "25000  25000     0  25000\n",
      "    0      0     0      0\n"
     ]
    }
   ],
   "source": [
    "for dia,etapa in zip(['miercoles','jueves','viernes','Sabado'],ETAPAS):\n",
    "    print(f'\\nDia {dia}\\n',tabulate(etapa,headers='0 1 X* Fx*'.split()))\n",
    "    "
   ]
  },
  {
   "cell_type": "code",
   "execution_count": 34,
   "metadata": {},
   "outputs": [],
   "source": [
    "import numpy as np\n",
    "def jardin ( T ) :\n",
    "  etapas = -1* np . ones (( T ,2 ,2) )\n",
    "  mejores = np . zeros ((2 , T +1) )\n",
    "  mejores [0 , T ] = 25000\n",
    "  mejores [1 , T ] = 0\n",
    "  for k in range (T -1 , -1 , -1) :\n",
    "    for i in range (2) :\n",
    "        for j in range (2) :\n",
    "            if j ==0:\n",
    "                etapas [k ,i , j ]= funcion_recompensa (i , j ) + mejores[1 , k +1]\n",
    "            elif j ==1 and i ==0:\n",
    "                etapas [k ,i , j ]= funcion_recompensa (i , j ) +0.8* mejores [0 , k +1]+0.2* mejores[1 , k +1]\n",
    "            elif j ==1 and i ==1:\n",
    "                etapas [k ,i , j ]= funcion_recompensa (i , j ) +0.3* mejores [0 , k +1]+0.7* mejores[1 , k +1]\n",
    "    mejores [i , k ]= np.min( etapas [k ,i ,:])\n",
    "  return etapas , mejores"
   ]
  },
  {
   "cell_type": "code",
   "execution_count": 35,
   "metadata": {},
   "outputs": [
    {
     "data": {
      "text/plain": [
       "(array([[[20250.,  6050.],\n",
       "         [15250.,  3675.]],\n",
       " \n",
       "        [[22500.,  6500.],\n",
       "         [17500.,  5250.]],\n",
       " \n",
       "        [[15000., 25000.],\n",
       "         [10000.,  7500.]]]),\n",
       " array([[    0.,     0.,     0., 25000.],\n",
       "        [ 3675.,  5250.,  7500.,     0.]]))"
      ]
     },
     "execution_count": 35,
     "metadata": {},
     "output_type": "execute_result"
    }
   ],
   "source": [
    "jardin(3)"
   ]
  }
 ],
 "metadata": {
  "kernelspec": {
   "display_name": "Python 3",
   "language": "python",
   "name": "python3"
  },
  "language_info": {
   "codemirror_mode": {
    "name": "ipython",
    "version": 3
   },
   "file_extension": ".py",
   "mimetype": "text/x-python",
   "name": "python",
   "nbconvert_exporter": "python",
   "pygments_lexer": "ipython3",
   "version": "3.10.3"
  },
  "vscode": {
   "interpreter": {
    "hash": "693833a0fc7c056f1ca5189d21d883b455cc93586644e182fabbdbc239f3db61"
   }
  }
 },
 "nbformat": 4,
 "nbformat_minor": 2
}
