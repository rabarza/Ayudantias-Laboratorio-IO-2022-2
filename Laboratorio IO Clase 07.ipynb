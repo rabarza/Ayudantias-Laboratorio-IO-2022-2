{
 "cells": [
  {
   "attachments": {
    "Sin%20t%C3%ADtulo.png": {
     "image/png": "[encoded data removed]"
    }
   },
   "cell_type": "markdown",
   "metadata": {},
   "source": [
    "# Cadenas de Markov en tiempo discreto\n",
    "\n",
    "Una empresa peñalolina se dedica a la elaboración de vacunas para distintas enfermedades.\n",
    "\n",
    "Para el proceso de creación de una vacuna se cuenta con diversos pasos para lograr conseguir su aprobación final.\n",
    "\n",
    "Al partir, todas las vacunas parten en una etapa denominada I. La evolución de las vacunas tiene el siguiente comportamiento. \n",
    "\n",
    "+ En la etapa I existe una probabilidad de 0.6 de que la vacuna se demuestre ineficaz y se descarte, mientras que con probabilidad 0.4 avanzará a etapa II. \n",
    "\n",
    "+ En la etapa II existe una probabilidad 0.6 de que no se logre determinar la validez de la vacuna y vuelva a fase I, mientras que con probabilidad 0.4 avanzará a fase III. En la fase III la situación es análoga a la fase II, con probabilidad 0.6 falla y vuelve a fase I y con probabilidad 0.4 avanza a fase IV.\n",
    "\n",
    "+ En la fase IV las vacunas ya se consideran seguras para su uso, sin embargo, la aparición de nuevas cepas puede hacer que se vuelvan menos efectivas. Debido a esto, cada tres meses las vacunas en fase IV deben ser pasar una inspección y en caso de fallar, con probabilidad 0.5, deben ser reacondicionadas durante 3 meses hasta que vuelven a estar en funcionamiento.\n",
    "\n",
    "Considere que cada periodo en una fase tiene una duración de tres meses. Considerando esto y que $X_t$ corresponde a la etapa en la que está la vacuna, se ha generado el siguiente grafo representando la situación:\n",
    "\n",
    "![Sin%20t%C3%ADtulo.png](attachment:Sin%20t%C3%ADtulo.png)"
   ]
  },
  {
   "cell_type": "markdown",
   "metadata": {},
   "source": [
    "Considerando el grafo asociado, genere la matriz de probabilidad de transición."
   ]
  },
  {
   "cell_type": "code",
   "execution_count": 1,
   "metadata": {},
   "outputs": [],
   "source": [
    "import numpy as np\n",
    "import numpy.linalg as linalg"
   ]
  },
  {
   "cell_type": "code",
   "execution_count": 2,
   "metadata": {},
   "outputs": [
    {
     "name": "stdout",
     "output_type": "stream",
     "text": [
      "[[1.  0.  0.  0.  0.  0. ]\n",
      " [0.6 0.  0.4 0.  0.  0. ]\n",
      " [0.  0.6 0.  0.4 0.  0. ]\n",
      " [0.  0.6 0.  0.  0.4 0. ]\n",
      " [0.  0.  0.  0.  0.5 0.5]\n",
      " [0.  0.  0.  0.  1.  0. ]]\n"
     ]
    }
   ],
   "source": [
    "P = np.array([[1, 0, 0, 0, 0, 0],\n",
    "              [0.6, 0, 0.4, 0, 0, 0],\n",
    "              [0, 0.6, 0, 0.4, 0, 0],\n",
    "              [0, 0.6, 0, 0, 0.4, 0],\n",
    "              [0, 0, 0, 0, 0.5, 0.5],\n",
    "              [0, 0, 0, 0, 1, 0]])\n",
    "print(P)"
   ]
  },
  {
   "cell_type": "markdown",
   "metadata": {},
   "source": [
    "Genere un código que permita determinar la cantidad de vacunas esperadas en cada fase, luego de n trimestres, considerando inicialamente k vacunas en fase I.\n",
    "\n",
    "Recuerde que $\\pi(n) = \\pi(0)P^n$"
   ]
  },
  {
   "cell_type": "code",
   "execution_count": 3,
   "metadata": {},
   "outputs": [],
   "source": [
    "def funcion1(k,P,n):\n",
    "    pi_0 = np.array([0,1,0,0,0,0])\n",
    "    Pn = linalg.matrix_power(P,n)\n",
    "    pi_n = np.matmul(pi_0,Pn)\n",
    "    res = k*pi_n\n",
    "    return res"
   ]
  },
  {
   "cell_type": "markdown",
   "metadata": {},
   "source": [
    "Ocupe el codigo creado anteriormente para determinar la cantidad de vacunas esperada que se estarán siendo usadas luego de 2 años si inicialmente se parte con 100 vacunas en la fase I."
   ]
  },
  {
   "cell_type": "code",
   "execution_count": 4,
   "metadata": {
    "scrolled": true
   },
   "outputs": [
    {
     "name": "stdout",
     "output_type": "stream",
     "text": [
      "[88.758528  0.995328  0.663552  0.36864   6.100032  3.11392 ]\n"
     ]
    }
   ],
   "source": [
    "r=funcion1(100,P,8)\n",
    "print(r)"
   ]
  },
  {
   "cell_type": "markdown",
   "metadata": {},
   "source": [
    "De esta forma, en promedio habrá 6,1 vacunas siendo usadas. (Notar que es un valor esperado, por eso consideramos fraccionario el número y podemos hablar de 6,1)."
   ]
  },
  {
   "cell_type": "markdown",
   "metadata": {},
   "source": [
    "Genere un código que permita determinar la cantidad de vacunas esperadas en cada fase, luego de n trimestres, considerando inicialamente una cantidad dada de vacunas en cada fase, es decir."
   ]
  },
  {
   "cell_type": "code",
   "execution_count": 5,
   "metadata": {},
   "outputs": [],
   "source": [
    "#Consideremos un vector con la cantidad de personas en cada estado\n",
    "def funcion2(P,n,ini):\n",
    "    pi_0 = ini/np.sum(ini)\n",
    "    Pn = linalg.matrix_power(P,n)\n",
    "    pi_n = np.matmul(pi_0,Pn)\n",
    "    res = np.sum(ini)*pi_n\n",
    "    return res"
   ]
  },
  {
   "cell_type": "markdown",
   "metadata": {},
   "source": [
    "Considere que inicialmente se tienen 10 vacunas en fase I, 5 en fase II, 3 en fase III, 7 en fase IV y 10 en etapa de mejora. Determine la cantidad esperada de vacunas descartadas y en mejora que habrá luego de 10 trimestres."
   ]
  },
  {
   "cell_type": "code",
   "execution_count": 6,
   "metadata": {},
   "outputs": [
    {
     "data": {
      "text/plain": [
       "array([14.32690852,  0.08148419,  0.05184553,  0.03308913, 13.67003054,\n",
       "        6.8366421 ])"
      ]
     },
     "execution_count": 6,
     "metadata": {},
     "output_type": "execute_result"
    }
   ],
   "source": [
    "ini = np.array([0,10,5,3,7,10])\n",
    "funcion2(P,10,ini)"
   ]
  },
  {
   "cell_type": "markdown",
   "metadata": {},
   "source": [
    "Así, tendremos, en promedio, 13,67 vacunas siendo usadas y 6,8 siendo en mejora."
   ]
  },
  {
   "cell_type": "markdown",
   "metadata": {},
   "source": [
    "### Determine la probabilidad de que una vacuna termine descartada partiendo en fase I, fase II y fase III.\n",
    "\n",
    "Para esto debemos recordar el sistema de ecuaciones que permite solucionar este problema. Sabemos que dado un estado $j$ absorbente,\n",
    "\n",
    "$$f_{i,j} = \\sum_{k \\in S} p_{i,k}f_{k,j}$$\n",
    "\n",
    "donde $f_{i,i}=1$ y $f_{i,j}=0$ si $i$ y $j$ pertenecen a clases recurrentes distintas y $S$ es el conjunto de los estados posibles. \n",
    "\n",
    "Es posible analizar la probabilidad de alcanzar alguna vez una clase recurrente de forma similar, lo que está dado por la matriz $f$, con\n",
    "\n",
    "$$F = TF + Q   \\Rightarrow F = (I-T)^{-1}Q$$\n",
    "\n",
    "donde $f_{i,c}$ es la probabilidad de ir alguna vez desde el estado $i$ a la clase recurrente $c$, $T$ es la submatriz de los estados transientes de la matriz de transición y $Q$ es la matriz de probabilidad de ir (en una transición) desde estados transientes a clases recurrentes.\n",
    "\n",
    "Así, en nuestro caso \n",
    "\n",
    "$F = \\begin{bmatrix} f_{1,\\{D\\}} & f_{1,\\{4,M\\}} \\\\\n",
    "f_{2, \\{D\\} } & f_{2, \\{4,M\\} } \n",
    "\\\\ f_{3,\\{D\\}} & f_{3,\\{4,M\\}} \n",
    "\\end{bmatrix} \\hspace{1cm} T= \n",
    "\\begin{bmatrix} p_{1,1} & p_{1,2} & p_{1,3} \\\\\n",
    "p_{2,1} & p_{2,2} & p_{2,3} \\\\\n",
    "p_{3,1} & p_{3,2} & p_{3,3} \\\\  \\end{bmatrix}\n",
    "\\hspace{1cm}  Q =\n",
    "\\begin{bmatrix} p_{1,\\{D\\}} & p_{1,\\{4,M\\}} \\\\\n",
    "p_{2,\\{D\\}} & p_{2,\\{4,M\\}}  \\\\\n",
    "p_{3,\\{D\\}} & p_{3,\\{4,M\\}}  \\\\  \\end{bmatrix}$\n",
    "\n",
    "Calculemos ahora con Python\n",
    "\n",
    "\n"
   ]
  },
  {
   "cell_type": "code",
   "execution_count": 7,
   "metadata": {},
   "outputs": [],
   "source": [
    "T = np.array([[0, 0.4, 0],\n",
    "            [ 0.6, 0, 0.4],\n",
    "            [ 0.6, 0, 0]])\n",
    "Q = np.array([[0.6, 0],\n",
    "              [0,0],\n",
    "              [0,0.4]])"
   ]
  },
  {
   "cell_type": "code",
   "execution_count": 8,
   "metadata": {},
   "outputs": [],
   "source": [
    "def prob_visita(T,Q):\n",
    "    r,c = np.shape(T)\n",
    "    aux1 = np.eye(r)-T\n",
    "    aux2 = np.linalg.inv(aux1)\n",
    "    f = np.matmul(aux2,Q)\n",
    "    return f"
   ]
  },
  {
   "cell_type": "code",
   "execution_count": 9,
   "metadata": {},
   "outputs": [
    {
     "data": {
      "text/plain": [
       "array([[0.90361446, 0.09638554],\n",
       "       [0.75903614, 0.24096386],\n",
       "       [0.54216867, 0.45783133]])"
      ]
     },
     "execution_count": 9,
     "metadata": {},
     "output_type": "execute_result"
    }
   ],
   "source": [
    "prob_visita(T,Q)"
   ]
  },
  {
   "cell_type": "markdown",
   "metadata": {},
   "source": [
    "De esta forma, notamos que la probabilidad de que una vacuna en fase I termine descartada es 0.9 mientras que para una vacuna en fase II es de 0.75 y para una vacuna en fase III es de 0.54"
   ]
  },
  {
   "cell_type": "markdown",
   "metadata": {},
   "source": [
    "Es posible también, de forma matricial, determinar los tiempos de permanencia en un estado transiente partiendo de un estado transiente, y por lo mismo, el tiempo medio de absorción.\n",
    "\n",
    "Definimos $R=(I-T)^{-1}$, donde $r_{i,j}$ representa el tiempo medio que estará la cadena en el estado $j$, partiendo del estado $i$, antes de llegar a una clase recurrente. De esta forma, la suma de la fila $i$ es equivalente al tiempo promedio que transcurre, partiendo desde el estado $i$ hasta ser absorbido por una clase recurrente.\n",
    "\n",
    "Usaremos esta matriz para determinar el tiempo promedio que está una vacuna desde la fase I hasta que termina estando disponible para su uso o descartada."
   ]
  },
  {
   "cell_type": "code",
   "execution_count": 10,
   "metadata": {},
   "outputs": [],
   "source": [
    "def tiempo_medio(T):\n",
    "    r,c = np.shape(T)\n",
    "    aux1 = np.eye(r)-T\n",
    "    tiempos = np.linalg.inv(aux1)\n",
    "    sumas = np.sum(tiempos,1)\n",
    "    return tiempos,sumas"
   ]
  },
  {
   "cell_type": "code",
   "execution_count": 11,
   "metadata": {},
   "outputs": [
    {
     "data": {
      "text/plain": [
       "(array([[1.5060241 , 0.60240964, 0.24096386],\n",
       "        [1.26506024, 1.5060241 , 0.60240964],\n",
       "        [0.90361446, 0.36144578, 1.14457831]]),\n",
       " array([2.34939759, 3.37349398, 2.40963855]))"
      ]
     },
     "execution_count": 11,
     "metadata": {},
     "output_type": "execute_result"
    }
   ],
   "source": [
    "tiempo_medio(T)"
   ]
  },
  {
   "cell_type": "markdown",
   "metadata": {},
   "source": [
    "Así el tiempo es de 2,34 trimestres, en promedio, desde que una vacuna parte en fase I hasta que termina descartada o siendo aprobada para su uso."
   ]
  },
  {
   "cell_type": "markdown",
   "metadata": {},
   "source": [
    "NOTA: La demostración de las fórmulas tanto de la matriz f como de la matriz R se encuentran en el documento adjunto a la clase."
   ]
  }
 ],
 "metadata": {
  "kernelspec": {
   "display_name": "Python 3",
   "language": "python",
   "name": "python3"
  },
  "language_info": {
   "codemirror_mode": {
    "name": "ipython",
    "version": 3
   },
   "file_extension": ".py",
   "mimetype": "text/x-python",
   "name": "python",
   "nbconvert_exporter": "python",
   "pygments_lexer": "ipython3",
   "version": "3.10.3 (tags/v3.10.3:a342a49, Mar 16 2022, 13:07:40) [MSC v.1929 64 bit (AMD64)]"
  },
  "vscode": {
   "interpreter": {
    "hash": "693833a0fc7c056f1ca5189d21d883b455cc93586644e182fabbdbc239f3db61"
   }
  }
 },
 "nbformat": 4,
 "nbformat_minor": 2
}
