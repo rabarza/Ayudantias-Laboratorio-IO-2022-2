{
 "cells": [
  {
   "cell_type": "markdown",
   "metadata": {
    "pycharm": {
     "name": "#%% md\n"
    }
   },
   "source": [
    "# Ejercicio Cruz Roja\n",
    "\n",
    "La Cruz Roja debe determinar la asignación óptima de equipos médicos a los países afectados por el brote del virus Ébola. Para lo anterior, cuenta con 5 equipos médicos los cuales debe asignar a 3 países.\n",
    "\n",
    "Las cantidades de vidas que se salvarían, dependiendo del número de equipos médicos los cuales debe asignar a 3 países.\n",
    "\n",
    "Las cantidades de vidas que se salvarían, dependiendo del número de equipos médicos que se asignen a cada país, se señalan en la tabla.\n",
    "\n",
    "Encuentre la solución óptima para salvar la mayor cantidad de vidas.\n",
    "\n",
    "\\begin{table}\n",
    "\\resizebox{\\columnwidth}{!}{%\n",
    "\\begin{tabular}{|l|l|l|l|}\n",
    "\\hline\n",
    "Equipos & País 1 & País 2 & País 3 \\\\ \\hline\n",
    "0       & 0      & 0      & 0      \\\\ \\hline\n",
    "1       & 45     & 20     & 50     \\\\ \\hline\n",
    "2       & 70     & 45     & 70     \\\\ \\hline\n",
    "3       & 90     & 75     & 80     \\\\ \\hline\n",
    "4       & 105    & 110    & 100    \\\\ \\hline\n",
    "5       & 120    & 150    & 130    \\\\ \\hline\n",
    "\\end{tabular}%\n",
    "}\n",
    "\\end{table}"
   ]
  },
  {
   "cell_type": "markdown",
   "metadata": {
    "pycharm": {
     "name": "#%% md\n"
    }
   },
   "source": []
  },
  {
   "cell_type": "markdown",
   "metadata": {
    "pycharm": {
     "name": "#%% md\n"
    }
   },
   "source": [
    "Etapas: N = 3, 1 por cada país.\n",
    "\n",
    "Variable de decisión:\\\n",
    "$X_{n}: \\text{Cantidad de equipos médicos a asignar en el país n}$\n",
    "\n",
    "Variable de Estado:\\\n",
    "$S_{n}: \\text{Cantidad de equipos médicos disponibles para asignar en el país n}$\n",
    "\n",
    "Función de Recursividad:\\\n",
    "$S_{n+1}=S_n-X_n$\n",
    "\n",
    "Función Objetivo:\n",
    "\n",
    "$\\max \\limits_{X_n, S_n} V_n (X_n) +F^*(S_{n+1})$\n",
    "\n",
    "Restricciones:\n",
    "\n",
    "$S_n \\geq X_n$\\\n",
    "$X_n\\geq 0$\n",
    "\n",
    "Condiciones de borde:\n",
    "\n",
    "$S_1=5$ \\\n",
    "$S_{N+1}=S_4=0 \\rightarrow X_3=S_3 $"
   ]
  },
  {
   "cell_type": "code",
   "execution_count": 69,
   "metadata": {
    "pycharm": {
     "name": "#%%\n"
    }
   },
   "outputs": [],
   "source": [
    "import numpy as np"
   ]
  },
  {
   "cell_type": "code",
   "execution_count": 61,
   "metadata": {
    "pycharm": {
     "name": "#%%\n"
    }
   },
   "outputs": [],
   "source": [
    "#                0  1  2  3  4  5\n",
    "vidas=np.array([[0,45,70,90,105,120],#Pais 1 #Cada fila es una etapa y cada columna un x\n",
    "                [0,20,45,75,110,150],#Pais 2\n",
    "                [0,50,70,80,100,130]])#Pais 3"
   ]
  },
  {
   "cell_type": "code",
   "execution_count": 75,
   "metadata": {
    "pycharm": {
     "name": "#%%\n"
    }
   },
   "outputs": [],
   "source": [
    "s=[0,1,2,3,4,5]\n",
    "x=[0,1,2,3,4,5]\n",
    "\n",
    "etapas=[0,1,2]"
   ]
  },
  {
   "cell_type": "code",
   "execution_count": 77,
   "metadata": {
    "pycharm": {
     "name": "#%%\n"
    }
   },
   "outputs": [],
   "source": [
    "DATA=[]\n",
    "for i in reversed(etapas):\n",
    "    tabla=np.zeros((len(s),len(x)+2))\n",
    "    for j in range(len(s)):\n",
    "        for k in range(len(x)):\n",
    "            if s[j]>=x[k]:\n",
    "                if i==2:#Etapa (pais) 3\n",
    "                    tabla[j,k]=vidas[i,k]\n",
    "\n",
    "                if i==1: #Etapa 2 (pais 2)\n",
    "                    optimoAnterior=DATA[0][s.index((s[j]-x[k])),len(x)+1]\n",
    "                    tabla[j,k]=vidas[i,k]+optimoAnterior\n",
    "\n",
    "                if i==0: #Etapa 1 (pais 1)\n",
    "                    optimoAnterior=DATA[0][s.index((s[j]-x[k])),len(x)+1]\n",
    "                    tabla[j,k]=vidas[i,k]+optimoAnterior\n",
    "\n",
    "            if tabla[j,k]>tabla[j,len(x)+1]:\n",
    "                tabla[j,len(x)+1]=tabla[j,k]\n",
    "                tabla[j,len(x)]=x[k]\n",
    "    DATA.insert(0,tabla)"
   ]
  },
  {
   "cell_type": "code",
   "execution_count": 83,
   "metadata": {
    "pycharm": {
     "name": "#%%\n"
    }
   },
   "outputs": [],
   "source": [
    "from tabulate import tabulate"
   ]
  },
  {
   "cell_type": "code",
   "execution_count": 85,
   "metadata": {
    "pycharm": {
     "name": "#%%\n"
    }
   },
   "outputs": [
    {
     "name": "stdout",
     "output_type": "stream",
     "text": [
      "Pais 1\n",
      "   0    1    2    3    4    5    x*    Fx*\n",
      "---  ---  ---  ---  ---  ---  ----  -----\n",
      "  0    0    0    0    0    0     0      0\n",
      " 50   45    0    0    0    0     0     50\n",
      " 70   95   70    0    0    0     1     95\n",
      " 95  115  120   90    0    0     2    120\n",
      "125  140  140  140  105    0     1    140\n",
      "160  170  165  160  155  120     1    170\n",
      "Pais 2\n",
      "   0    1    2    3    4    5    x*    Fx*\n",
      "---  ---  ---  ---  ---  ---  ----  -----\n",
      "  0    0    0    0    0    0     0      0\n",
      " 50   20    0    0    0    0     0     50\n",
      " 70   70   45    0    0    0     0     70\n",
      " 80   90   95   75    0    0     2     95\n",
      "100  100  115  125  110    0     3    125\n",
      "130  120  125  145  160  150     4    160\n",
      "Pais 3\n",
      "   0    1    2    3    4    5    x*    Fx*\n",
      "---  ---  ---  ---  ---  ---  ----  -----\n",
      "  0    0    0    0    0    0     0      0\n",
      "  0   50    0    0    0    0     1     50\n",
      "  0   50   70    0    0    0     2     70\n",
      "  0   50   70   80    0    0     3     80\n",
      "  0   50   70   80  100    0     4    100\n",
      "  0   50   70   80  100  130     5    130\n"
     ]
    }
   ],
   "source": [
    "for pais, tabla in zip(etapas,DATA):\n",
    "    print(f'Pais {pais+1}\\n',tabulate(tabla, headers='0 1 2 3 4 5 x* Fx*'.split()))\n"
   ]
  },
  {
   "cell_type": "code",
   "execution_count": 72,
   "metadata": {
    "pycharm": {
     "name": "#%%\n"
    }
   },
   "outputs": [],
   "source": [
    "lista.insert(0,10)"
   ]
  },
  {
   "cell_type": "code",
   "execution_count": 73,
   "metadata": {
    "pycharm": {
     "name": "#%%\n"
    }
   },
   "outputs": [
    {
     "data": {
      "text/plain": [
       "[10, 1, 2, 3, 4]"
      ]
     },
     "execution_count": 73,
     "metadata": {},
     "output_type": "execute_result"
    }
   ],
   "source": [
    "lista"
   ]
  },
  {
   "cell_type": "code",
   "execution_count": 70,
   "metadata": {
    "pycharm": {
     "name": "#%%\n"
    }
   },
   "outputs": [
    {
     "data": {
      "text/plain": [
       "array([[0., 0., 0., 0., 0., 0., 0., 0.],\n",
       "       [0., 0., 0., 0., 0., 0., 0., 0.],\n",
       "       [0., 0., 0., 0., 0., 0., 0., 0.],\n",
       "       [0., 0., 0., 0., 0., 0., 0., 0.],\n",
       "       [0., 0., 0., 0., 0., 0., 0., 0.],\n",
       "       [0., 0., 0., 0., 0., 0., 0., 0.]])"
      ]
     },
     "execution_count": 70,
     "metadata": {},
     "output_type": "execute_result"
    }
   ],
   "source": [
    "tabla=np.zeros((len(s),len(x)+2))\n",
    "tabla"
   ]
  },
  {
   "cell_type": "code",
   "execution_count": 62,
   "metadata": {
    "pycharm": {
     "name": "#%%\n"
    }
   },
   "outputs": [],
   "source": [
    "from tabulate import tabulate"
   ]
  },
  {
   "cell_type": "code",
   "execution_count": 63,
   "metadata": {
    "pycharm": {
     "name": "#%%\n"
    }
   },
   "outputs": [],
   "source": [
    "#for etapa, i in zip(etapas,DATA):\n",
    "#    print(f'\\nPaís {etapa+1}\\n',tabulate(i, headers='0 1 2 3 4 5 x* Fx*'.split()))"
   ]
  },
  {
   "cell_type": "code",
   "execution_count": 63,
   "metadata": {
    "pycharm": {
     "name": "#%%\n"
    }
   },
   "outputs": [],
   "source": []
  },
  {
   "cell_type": "markdown",
   "metadata": {
    "pycharm": {
     "name": "#%% md\n"
    }
   },
   "source": [
    "Debido a diferentes conflictos y catástrofes internacionales, la organización de médicos sin límites (MSL) se encuentra determinando la cantidad de equipos médicos que enviará a diferentes países con el fin de poder ofrecer atención de emergencia en las zonas de alta demanda.\n",
    "\n",
    "Para esto, la organización ha identificado T posibles países en donde enviar los equipos y de acuerdo con sus estudios, ha determinado la cantidad de personas que se podrían atender dependiendo del número de equipos que se envien. Así $C_n(x)$ corresponde a la cantidad de personas que pueden ser atendidas en el país n si se envían $x$ equipos médicos.\n",
    "\n",
    "Actualmente MSL cuenta con un total de R equipos médicos y desea que usted les indique la forma en la que asignen esos equipos a fin de maximizar la cantidad de personas que pueden ser atendidas.\n",
    "\n",
    "Para este problema usted ha formulado el siguiente modelo de programación dinámica, el cual se pide que programe y resuelva en Python:\n",
    "\n",
    "**Etapas**\n",
    "\n",
    "$T$, una por cada país.\n",
    "\n",
    "**Variables de decisión**:\n",
    "\n",
    "$X_n:$ cantidad de equipos médicos a enviar al país $n$\n",
    "\n",
    "**Variables de estado**: \n",
    "\n",
    "$S_n:$ cantidad de equipos médicos que quedan sin enviar al inicio de la etapa $n$.\n",
    "\n",
    "**Reglas de transformación** \n",
    "\n",
    "$S_{n+1}=S_n-X_n$\n",
    "\n",
    "**Función de recursividad**\n",
    "\n",
    "$f_n(S_n,Y_n,X_n)=C_n(X_n)+f_{n+1}^*(S_{n+1})$, para todo $n$.\n",
    "\n",
    "**Función objetivo** \n",
    "\n",
    "$f_n^*(S_n)=\\max_{X_n} (f_n(S_n,X_n))$ para todo $n$.\n",
    "\n",
    "**Condiciones**\n",
    "\n",
    "$S_1=R$\n",
    "\n",
    "$f_4^*(S_4)=0$\n",
    "\n",
    "**Restricciones**\n",
    "\n",
    "$X_n \\leq S_n$ para todo $n$.\n",
    "\n",
    "$X_n, S_n \\geq 0$, enteras, para todo $n$.\n",
    "\n"
   ]
  },
  {
   "cell_type": "markdown",
   "metadata": {
    "pycharm": {
     "name": "#%% md\n"
    }
   },
   "source": [
    "Es importante ante todo definir la estructura que tendrán los datos que le entregaremos al modelo.\n",
    "\n",
    "En primer lugar necesitamos una matriz que contenga los valores de la función $C_n$, para poder establecerlos, a la vez que determinar la estructura de las etapas y sus respectivas tablas.\n",
    "\n",
    "La información de la función $C_n$ estará dada por una matriz, que poseerá $R+1$ filas y $T$ columnas, así se posee una fila por cada asignación posible de equipos médicos (de $0$ a $R$) y una columna por cada país. De esta forma, el valor $C[i,j]:$ será la cantidad de personas que pueden ser atendidas si se asignan $i$ equipos médicos al equipo $j$.\n",
    "\n",
    "Para las etapas usaremos un arreglo de tres dimensiones, la primera dimensión corresponderá a las distinas etapas, la segunda a los valores de la variable de estado y la tercera a los valores de la variable de decisión. Como en este caso es posible asignar cualquier cantidad de equipos médicos a un país (respetando las restricciones) las filas van de $0$ a $R$, al igual que las columnas.\n",
    "\n",
    "Asignaremos el valor -1 para inicializar las matrices de las etapas, a fin de poder determinar aquellas celdas infactibles.\n",
    "\n",
    "Guardaremos los valores óptimos en un arreglo de dos dimensiones. En las filas tendremos los distintos valores de equipos médicos disponibles y en las columnas las distintas etapas."
   ]
  },
  {
   "cell_type": "code",
   "execution_count": 64,
   "metadata": {
    "pycharm": {
     "name": "#%%\n"
    }
   },
   "outputs": [],
   "source": [
    "import numpy as np\n",
    "def asignacionmedica(T,R,C): # T será la cantidad de países, R la cantidad de equipos médicos totales.\n",
    "    etapas = -1*np.ones((T,R+1,R+1)) # generamos las T etapas, cada una con R filas y columnas.\n",
    "    mejores = np.zeros((R+1,T+1)) # generamos la matriz para los óptimos.\n",
    "    for k in range(T-1,-1,-1):\n",
    "        for i in range(R+1):\n",
    "            for j in range(R+1):\n",
    "                if j <= i:\n",
    "                    etapas[k,i,j]=C[j,k]+mejores[i-j,k+1] # calculamos el valor actual y le sumamos la parte recursiva\n",
    "                    # de esta forma, calculamos la cantidad de equipos sobrantes, correspondientes a los\n",
    "                    # que tenemos menos los que asignamos.\n",
    "            mejores[i,k]=np.max(etapas[k,i,:]) # para cada fila, determinamos el mejor valor posible.\n",
    "    return etapas,mejores"
   ]
  },
  {
   "cell_type": "code",
   "execution_count": 65,
   "metadata": {
    "pycharm": {
     "name": "#%%\n"
    }
   },
   "outputs": [
    {
     "name": "stdout",
     "output_type": "stream",
     "text": [
      "[[ 0  0  0  0]\n",
      " [ 7  8 11 10]\n",
      " [18 19 15 21]\n",
      " [27 31 28 30]\n",
      " [35 37 33 38]]\n"
     ]
    }
   ],
   "source": [
    "\n",
    "C = np.array([[0,0,0,0],\n",
    "              [7,8,11,10],\n",
    "              [18,19,15,21],\n",
    "              [27,31,28,30],\n",
    "              [35,37,33,38]])\n",
    "print(C)"
   ]
  },
  {
   "cell_type": "code",
   "execution_count": 66,
   "metadata": {
    "pycharm": {
     "name": "#%%\n"
    }
   },
   "outputs": [
    {
     "name": "stdout",
     "output_type": "stream",
     "text": [
      "[[[ 0. -1. -1. -1. -1.]\n",
      "  [11.  7. -1. -1. -1.]\n",
      "  [21. 18. 18. -1. -1.]\n",
      "  [32. 28. 29. 27. -1.]\n",
      "  [42. 39. 39. 38. 35.]]\n",
      "\n",
      " [[ 0. -1. -1. -1. -1.]\n",
      "  [11.  8. -1. -1. -1.]\n",
      "  [21. 19. 19. -1. -1.]\n",
      "  [32. 29. 30. 31. -1.]\n",
      "  [41. 40. 40. 42. 37.]]\n",
      "\n",
      " [[ 0. -1. -1. -1. -1.]\n",
      "  [10. 11. -1. -1. -1.]\n",
      "  [21. 21. 15. -1. -1.]\n",
      "  [30. 32. 25. 28. -1.]\n",
      "  [38. 41. 36. 38. 33.]]\n",
      "\n",
      " [[ 0. -1. -1. -1. -1.]\n",
      "  [ 0. 10. -1. -1. -1.]\n",
      "  [ 0. 10. 21. -1. -1.]\n",
      "  [ 0. 10. 21. 30. -1.]\n",
      "  [ 0. 10. 21. 30. 38.]]]\n",
      "[[ 0.  0.  0.  0.  0.]\n",
      " [11. 11. 11. 10.  0.]\n",
      " [21. 21. 21. 21.  0.]\n",
      " [32. 32. 32. 30.  0.]\n",
      " [42. 42. 41. 38.  0.]]\n"
     ]
    }
   ],
   "source": [
    "a,b = asignacionmedica(4,4,C)\n",
    "print(a)\n",
    "print(b)"
   ]
  },
  {
   "cell_type": "code",
   "execution_count": 67,
   "metadata": {
    "pycharm": {
     "name": "#%%\n"
    }
   },
   "outputs": [],
   "source": [
    "# Ahora generaremos una metodología para poder determinar las decisiones a tomar.\n",
    "def politicaoptima(a,mejores,S):\n",
    "    decision = np.zeros(len(a))\n",
    "    pacientes=mejores[S,0]\n",
    "    decision[0] = np.asarray(np.where(a[0,S,:]==mejores[S,0]))\n",
    "    for i in range(1,len(a)):\n",
    "        S = S-decision[i-1]\n",
    "        decision[i] = np.asarray(np.where(a[i,int(S),:]==mejores[int(S),i]))\n",
    "    return decision,pacientes"
   ]
  },
  {
   "cell_type": "code",
   "execution_count": 68,
   "metadata": {
    "pycharm": {
     "name": "#%%\n"
    }
   },
   "outputs": [
    {
     "name": "stdout",
     "output_type": "stream",
     "text": [
      "[0. 3. 1. 0.] 42.0\n"
     ]
    }
   ],
   "source": [
    "policy,pacientes=politicaoptima(a,b,4)\n",
    "print(policy,pacientes)"
   ]
  },
  {
   "cell_type": "markdown",
   "metadata": {
    "pycharm": {
     "name": "#%% md\n"
    }
   },
   "source": [
    "Notemos que no estamos considerando aquellos casos en donde la solución implica múltiples caminos. Por ahora no nos preocuparemos de estos casos, ya que implican una complejidad superior a la que vemos en este curso."
   ]
  }
 ],
 "metadata": {
  "kernelspec": {
   "display_name": "Python 3 (ipykernel)",
   "language": "python",
   "name": "python3"
  },
  "language_info": {
   "codemirror_mode": {
    "name": "ipython",
    "version": 3
   },
   "file_extension": ".py",
   "mimetype": "text/x-python",
   "name": "python",
   "nbconvert_exporter": "python",
   "pygments_lexer": "ipython3",
   "version": "3.10.3"
  },
  "vscode": {
   "interpreter": {
    "hash": "693833a0fc7c056f1ca5189d21d883b455cc93586644e182fabbdbc239f3db61"
   }
  }
 },
 "nbformat": 4,
 "nbformat_minor": 2
}
