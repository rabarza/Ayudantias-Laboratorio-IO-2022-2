{
 "cells": [
  {
   "cell_type": "markdown",
   "metadata": {},
   "source": [
    "El local Siempre Fresco se encuentra estudiando la provisión de harina para los próximos $T$ meses. A inicio de cada mes, la dueña del local puede determinar la cantidad de sacos de harina que pedirá para ese mes.\n",
    "\n",
    "De acuerdo a reportes recabados, ha determinado que la demanda de sacos de harina es 1 con probabilidad 0,4 y 2 con probabilidad 0,6.\n",
    "\n",
    "El ingreso por cada saco de harina vendido es de 10 dólares, el costo por cada saco de harina pedido es 5 dólares y, en caso de sobrar sacos de harina, de un periodo al siguiente, se almacenan para el mes siguiente a un costo de 3 dólares cada uno. Considere que no existe costo por demanda insatisfecha y que todos los sacos que se mantengan a inicio del periodo $T+1$ serán donados a una obra de caridad.\n",
    "\n",
    "Considerando la situación descrita y que se poseen 0 sacos de harina en el local, se ha formulado modelo de programación dínamica\n",
    "\n",
    "**Etapas**\n",
    "\n",
    "$3$, una por cada mes.\n",
    "\n",
    "**Variables de decisión**:\n",
    "\n",
    "$X_n$: sacos a pedir el mes $n$. \n",
    "\n",
    "**Variables de estado**: \n",
    "\n",
    "$S_n$: cantidad de sacos de harina almacenados al inicio del mes $n$. \n",
    "\n",
    "**Reglas de transformación** \n",
    "\n",
    "$S_{n+1}=\\max(0,S_n+X_n-D_n)$,\n",
    "\n",
    "donde $D_n=\\left\\{\\begin{array}{ccl}\n",
    "\t1& \\text{ con probabilidad} & 0,4 \\\\\n",
    "\t2& \\text{ con probabilidad} & 0,6 \n",
    "\\end{array}\\right.$ \n",
    "\n",
    "**Función de recompensa**\n",
    "\n",
    "$R_n(S_n,X_n,D_n) = 10\\min(S_n+X_n,D_n)-5X_n-3\\max(0,S_n+X_n-D_n)$\n",
    "\n",
    "**Función recursiva**\n",
    "\n",
    "$f_n(S_n,X_n)=\\mathbb{E}(R_n(S_n,X_n,D_n)+f_{n+1}^*(S_{n+1}))$, para todo $n$.\n",
    "\n",
    "**Función objetivo** \n",
    "\n",
    "$\\displaystyle f_n^*(S_n)=\\max_{X_n} (f_n(S_n,X_n))$ para todo $n$.\n",
    "\n",
    "**Condiciones**\n",
    "\n",
    "$f_{4}^*(S_4)=0$\n",
    "\n",
    "$S_1=0$\n",
    "\n",
    "**Restricciones**\n",
    "\n",
    "$X_n, S_n \\geq 0$, enteras, para todo $n$.\n",
    "\n",
    "$X_n\\leq 3$, para todo $n$.\n",
    "\n"
   ]
  },
  {
   "cell_type": "code",
   "execution_count": 3,
   "metadata": {},
   "outputs": [],
   "source": [
    "def funcion_recompensa(S,X,D):\n",
    "    R = 10*min(S+X,D)-5*X-3*max(0,S+X-D)\n",
    "    return R"
   ]
  },
  {
   "cell_type": "code",
   "execution_count": 4,
   "metadata": {},
   "outputs": [],
   "source": [
    "def funcion_recursiva(S,X,D):\n",
    "    S2 = max(0,S+X-D)\n",
    "    return S2"
   ]
  },
  {
   "cell_type": "code",
   "execution_count": 5,
   "metadata": {},
   "outputs": [],
   "source": [
    "import numpy as np"
   ]
  },
  {
   "cell_type": "code",
   "execution_count": 11,
   "metadata": {},
   "outputs": [],
   "source": [
    "T=3\n",
    "\n",
    "ETAPAS=[]\n",
    "\n",
    "for i in reversed(range(T+1)):\n",
    "    tabla = -float(\"inf\")*np.ones((2*T+1,3+1+2))\n",
    "    for s in range(2*T+1):\n",
    "        for x in range(3+1): #va del cero al tres\n",
    "            if i == T:\n",
    "                tabla[s,x]=0\n",
    "            \n",
    "            else:\n",
    "                if x+s <= 2*T:\n",
    "                    tabla[s,x]=0.4*(funcion_recompensa(s,x,1)+ETAPAS[0][funcion_recursiva(s,x,1),-1])+0.6*(funcion_recompensa(s,x,2)+ETAPAS[0][funcion_recursiva(s,x,2),-1])\n",
    "                \n",
    "\n",
    "            if tabla[s,x]>tabla[s,-1]:\n",
    "                tabla[s,-1]=tabla[s,x]\n",
    "                tabla[s,-2]=x\n",
    "\n",
    "    ETAPAS.insert(0,tabla)"
   ]
  },
  {
   "cell_type": "code",
   "execution_count": 13,
   "metadata": {},
   "outputs": [],
   "source": [
    "from tabulate import tabulate"
   ]
  },
  {
   "cell_type": "code",
   "execution_count": 15,
   "metadata": {},
   "outputs": [
    {
     "name": "stdout",
     "output_type": "stream",
     "text": [
      "\n",
      "Etapa 1\n",
      "      0         1         2         3    X     Fx*\n",
      "------  --------  --------  --------  ---  ------\n",
      "11.8      16.8      18.6      15.6      2  18.6\n",
      "21.8      23.6      20.6      16.368    1  23.6\n",
      "28.6      25.6      21.368    13.992    0  28.6\n",
      "30.6      26.368    18.992     7.8      0  30.6\n",
      "31.368    23.992    12.8    -inf        0  31.368\n",
      "28.992    17.8    -inf      -inf        0  28.992\n",
      "22.8    -inf      -inf      -inf        0  22.8\n",
      "\n",
      "Etapa 2\n",
      "     0        1        2        3    X    Fx*\n",
      "-----  -------  -------  -------  ---  -----\n",
      " 5       10       11.8      8.72    2  11.8\n",
      "15       16.8     13.72     7.4     1  16.8\n",
      "21.8     18.72    12.4      1.4     0  21.8\n",
      "23.72    17.4      6.4     -4.6     0  23.72\n",
      "22.4     11.4      0.4   -inf       0  22.4\n",
      "16.4      5.4   -inf     -inf       0  16.4\n",
      "10.4   -inf     -inf     -inf       0  10.4\n",
      "\n",
      "Etapa 3\n",
      "    0       1       2       3    X    Fx*\n",
      "----  ------  ------  ------  ---  -----\n",
      " 0       5       4.8    -3.2    1    5\n",
      "10       9.8     1.8    -6.2    0   10\n",
      "14.8     6.8    -1.2    -9.2    0   14.8\n",
      "11.8     3.8    -4.2   -12.2    0   11.8\n",
      " 8.8     0.8    -7.2  -inf      0    8.8\n",
      " 5.8    -2.2  -inf    -inf      0    5.8\n",
      " 2.8  -inf    -inf    -inf      0    2.8\n",
      "\n",
      "Etapa 4\n",
      "   0    1    2    3    X    Fx*\n",
      "---  ---  ---  ---  ---  -----\n",
      "  0    0    0    0    0      0\n",
      "  0    0    0    0    0      0\n",
      "  0    0    0    0    0      0\n",
      "  0    0    0    0    0      0\n",
      "  0    0    0    0    0      0\n",
      "  0    0    0    0    0      0\n",
      "  0    0    0    0    0      0\n"
     ]
    }
   ],
   "source": [
    "for e, i in zip(range(T+1),ETAPAS):\n",
    "    print(f'\\nEtapa {e+1}\\n', tabulate(i, headers='0 1 2 3 X Fx*'.split()))"
   ]
  },
  {
   "cell_type": "markdown",
   "metadata": {},
   "source": [
    "En este caso, la búsqueda de la solución es notoriamente más compleja que en el caso estudiado la semana pasada y por lo mismo se requeriría generar un nuevo programa para determinar la solución, ya que dependerá del valor que tome la variable aleatoria D y de esta forma se generará un árbol de decisión.\n",
    "\n",
    "Notemos que igualmente podemos determinar la política óptima, tal cual como lo hacemos en el curso.\n",
    "\n",
    "En este caso notamos que dada la estructura, conviene pedir siempre una unidad si es que partimos con 0, obteniendo una recompensa esperada de 18.6 dólares."
   ]
  },
  {
   "cell_type": "markdown",
   "metadata": {},
   "source": [
    "### Solución 2"
   ]
  },
  {
   "cell_type": "markdown",
   "metadata": {},
   "source": [
    "En primer lugar necesitamos definir tres funciones: la función de transformación (función de actualización de la variable de estado), función de recompensa y la función recursiva.\n",
    "\n",
    "Para las etapas usaremos un arreglo de tres dimensiones, la primera dimensión corresponderá a las distinas etapas, la segunda a los valores de la variable de estado y la tercera a los valores de la variable de decisión. Como en este caso es posible asignar cualquier cantidad de equipos médicos a un país (respetando las restricciones) las filas van de $0$ a $R$, al igual que las columnas.\n",
    "\n",
    "Asignaremos el valor -1 para inicializar las matrices de las etapas, a fin de poder determinar aquellas celdas infactibles."
   ]
  },
  {
   "cell_type": "code",
   "execution_count": 29,
   "metadata": {},
   "outputs": [],
   "source": [
    "import numpy as np\n",
    "def jardin(T): # T será la cantidad de días.\n",
    "\n",
    "    etapas = -float(\"inf\")*np.ones((T,2*T+1,4))\n",
    "    mejores = np.zeros((2*T+1,T+1))\n",
    "    \n",
    "    for k in range(T-1,-1,-1):\n",
    "        for i in range(2*T+1):\n",
    "            for j in range(4):\n",
    "                if i+j <= 2*T:\n",
    "                    etapas[k,i,j]=0.4*(funcion_recompensa(i,j,1)+mejores[funcion_recursiva(i,j,1),k+1])+0.6*(funcion_recompensa(i,j,2)+mejores[funcion_recursiva(i,j,2),k+1])\n",
    "            mejores[i,k]=np.max(etapas[k,i,:]) \n",
    "    return etapas,mejores"
   ]
  },
  {
   "cell_type": "code",
   "execution_count": 30,
   "metadata": {},
   "outputs": [
    {
     "name": "stdout",
     "output_type": "stream",
     "text": [
      "[[[ 11.8    16.8    18.6    15.6  ]\n",
      "  [ 21.8    23.6    20.6    16.368]\n",
      "  [ 28.6    25.6    21.368  13.992]\n",
      "  [ 30.6    26.368  18.992   7.8  ]\n",
      "  [ 31.368  23.992  12.8      -inf]\n",
      "  [ 28.992  17.8      -inf    -inf]\n",
      "  [ 22.8      -inf    -inf    -inf]]\n",
      "\n",
      " [[  5.     10.     11.8     8.72 ]\n",
      "  [ 15.     16.8    13.72    7.4  ]\n",
      "  [ 21.8    18.72   12.4     1.4  ]\n",
      "  [ 23.72   17.4     6.4    -4.6  ]\n",
      "  [ 22.4    11.4     0.4      -inf]\n",
      "  [ 16.4     5.4      -inf    -inf]\n",
      "  [ 10.4      -inf    -inf    -inf]]\n",
      "\n",
      " [[  0.      5.      4.8    -3.2  ]\n",
      "  [ 10.      9.8     1.8    -6.2  ]\n",
      "  [ 14.8     6.8    -1.2    -9.2  ]\n",
      "  [ 11.8     3.8    -4.2   -12.2  ]\n",
      "  [  8.8     0.8    -7.2      -inf]\n",
      "  [  5.8    -2.2      -inf    -inf]\n",
      "  [  2.8      -inf    -inf    -inf]]]\n",
      "[[18.6   11.8    5.     0.   ]\n",
      " [23.6   16.8   10.     0.   ]\n",
      " [28.6   21.8   14.8    0.   ]\n",
      " [30.6   23.72  11.8    0.   ]\n",
      " [31.368 22.4    8.8    0.   ]\n",
      " [28.992 16.4    5.8    0.   ]\n",
      " [22.8   10.4    2.8    0.   ]]\n"
     ]
    }
   ],
   "source": [
    "a,b = jardin(3)\n",
    "print(a)\n",
    "print(b)"
   ]
  }
 ],
 "metadata": {
  "kernelspec": {
   "display_name": "Python 3.10.3 64-bit",
   "language": "python",
   "name": "python3"
  },
  "language_info": {
   "codemirror_mode": {
    "name": "ipython",
    "version": 3
   },
   "file_extension": ".py",
   "mimetype": "text/x-python",
   "name": "python",
   "nbconvert_exporter": "python",
   "pygments_lexer": "ipython3",
   "version": "3.10.3"
  },
  "vscode": {
   "interpreter": {
    "hash": "693833a0fc7c056f1ca5189d21d883b455cc93586644e182fabbdbc239f3db61"
   }
  }
 },
 "nbformat": 4,
 "nbformat_minor": 2
}
