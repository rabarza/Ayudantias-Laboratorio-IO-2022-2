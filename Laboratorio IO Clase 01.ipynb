{
 "cells": [
  {
   "cell_type": "markdown",
   "metadata": {},
   "source": [
    "# Laboratorio IO: Clase 01 \n",
    "\n",
    "Primeramente recordaremos uso básico de elementos de Python.\n",
    "\n",
    "Como sabemos, podemos usar Python como una simple calculadora, simplemente indicando las operaciones"
   ]
  },
  {
   "cell_type": "markdown",
   "metadata": {},
   "source": [
    "## Uso básico de Pyhton"
   ]
  },
  {
   "cell_type": "code",
   "execution_count": 1,
   "metadata": {},
   "outputs": [
    {
     "data": {
      "text/plain": [
       "5"
      ]
     },
     "execution_count": 1,
     "metadata": {},
     "output_type": "execute_result"
    }
   ],
   "source": [
    "# Suma\n",
    "2+3"
   ]
  },
  {
   "cell_type": "code",
   "execution_count": 2,
   "metadata": {},
   "outputs": [
    {
     "data": {
      "text/plain": [
       "-1"
      ]
     },
     "execution_count": 2,
     "metadata": {},
     "output_type": "execute_result"
    }
   ],
   "source": [
    "# Resta\n",
    "2-3"
   ]
  },
  {
   "cell_type": "code",
   "execution_count": 3,
   "metadata": {},
   "outputs": [
    {
     "data": {
      "text/plain": [
       "6"
      ]
     },
     "execution_count": 3,
     "metadata": {},
     "output_type": "execute_result"
    }
   ],
   "source": [
    "# Multiplicación\n",
    "2*3"
   ]
  },
  {
   "cell_type": "code",
   "execution_count": 4,
   "metadata": {},
   "outputs": [
    {
     "data": {
      "text/plain": [
       "0.6666666666666666"
      ]
     },
     "execution_count": 4,
     "metadata": {},
     "output_type": "execute_result"
    }
   ],
   "source": [
    "# División\n",
    "2/3"
   ]
  },
  {
   "cell_type": "code",
   "execution_count": 5,
   "metadata": {},
   "outputs": [
    {
     "data": {
      "text/plain": [
       "8"
      ]
     },
     "execution_count": 5,
     "metadata": {},
     "output_type": "execute_result"
    }
   ],
   "source": [
    "# Potencia\n",
    "2**3"
   ]
  },
  {
   "cell_type": "code",
   "execution_count": 6,
   "metadata": {},
   "outputs": [],
   "source": [
    "# Ademas, es posible definir variables de diferentes tipos, para esto basta asignar el valor respectivo y Python reconocerá el tipo de variable necesario\n"
   ]
  },
  {
   "cell_type": "code",
   "execution_count": 7,
   "metadata": {},
   "outputs": [],
   "source": [
    "# Número\n",
    "a=2"
   ]
  },
  {
   "cell_type": "code",
   "execution_count": 8,
   "metadata": {},
   "outputs": [],
   "source": [
    "b='hola mundo'"
   ]
  },
  {
   "cell_type": "code",
   "execution_count": 9,
   "metadata": {
    "scrolled": false
   },
   "outputs": [
    {
     "name": "stdout",
     "output_type": "stream",
     "text": [
      "2\n",
      "hola mundo\n"
     ]
    }
   ],
   "source": [
    "# Para mostrar variables es posible usar el comando print\n",
    "print(a)\n",
    "print(b)"
   ]
  },
  {
   "cell_type": "markdown",
   "metadata": {},
   "source": [
    "Existe también en Python la opción de poder usar condicionales a través de variables booleanas (True (1) or False (0)).\n",
    "\n",
    "Para esto podemos definir las variables directamente o bien podemos crear condiciones a través del uso de operadores lógicos\n",
    "\n",
    "Ocupamos tres operadores or, and y not"
   ]
  },
  {
   "cell_type": "code",
   "execution_count": 10,
   "metadata": {},
   "outputs": [
    {
     "data": {
      "text/plain": [
       "True"
      ]
     },
     "execution_count": 10,
     "metadata": {},
     "output_type": "execute_result"
    }
   ],
   "source": [
    "# Ejemplos operadores:\n",
    "(2>3) or (2<4)"
   ]
  },
  {
   "cell_type": "code",
   "execution_count": 11,
   "metadata": {},
   "outputs": [
    {
     "data": {
      "text/plain": [
       "False"
      ]
     },
     "execution_count": 11,
     "metadata": {},
     "output_type": "execute_result"
    }
   ],
   "source": [
    "not (2<3)"
   ]
  },
  {
   "cell_type": "code",
   "execution_count": 12,
   "metadata": {},
   "outputs": [
    {
     "data": {
      "text/plain": [
       "True"
      ]
     },
     "execution_count": 12,
     "metadata": {},
     "output_type": "execute_result"
    }
   ],
   "source": [
    "(2<3) and (2<4)"
   ]
  },
  {
   "cell_type": "markdown",
   "metadata": {},
   "source": [
    "### Condicionales\n",
    "\n",
    "El condicional por defecto es if, el cual implica que si se cumple la condición indicada, la acción se ejecutara.\n",
    "La estructura es siempre \n",
    "\n",
    "if condición: \n",
    "\n",
    "    acción\n",
    "    \n",
    "Note que siempre es necesario el \":\" a la vez que la sangría para la acción"
   ]
  },
  {
   "cell_type": "code",
   "execution_count": 13,
   "metadata": {},
   "outputs": [
    {
     "name": "stdout",
     "output_type": "stream",
     "text": [
      "2 es menor que 3, quién lo diría ¡¿no?!\n"
     ]
    }
   ],
   "source": [
    "# Ejemplo de uso de if\n",
    "if 2<3:\n",
    "    print(\"2 es menor que 3, quién lo diría ¡¿no?!\")"
   ]
  },
  {
   "cell_type": "markdown",
   "metadata": {},
   "source": [
    "Es posible indicar una acción en caso de que no se cumpla. Para esto usamos else que posee la siguiente estructura\n",
    "\n",
    "if condición:\n",
    "\n",
    "    acción en caso de que se cumpla\n",
    "    \n",
    "else:\n",
    "\n",
    "    acción en caso de que no se cumpla"
   ]
  },
  {
   "cell_type": "code",
   "execution_count": 14,
   "metadata": {},
   "outputs": [
    {
     "name": "stdout",
     "output_type": "stream",
     "text": [
      "Es falso\n"
     ]
    }
   ],
   "source": [
    "# Ejemplo if else\n",
    "if 2>3:\n",
    "    print(\"Es verdadero\")\n",
    "else:\n",
    "    print(\"Es falso\")\n",
    "        "
   ]
  },
  {
   "cell_type": "markdown",
   "metadata": {},
   "source": [
    "Es posible escribir varios if consecutivos a traves de elif, al que también se le puede añadir un else final para los casos que no fueron filtrados. La estructura es:\n",
    "\n",
    "if condición1:\n",
    "\n",
    "    acción en caso de que se cumpla la primera condición\n",
    "    \n",
    "elif condición2:  \n",
    "\n",
    "    acción si se cumple condición 2 luego de no cumplida la primera\n",
    "    \n",
    "else:\n",
    "\n",
    "    acción en caso de que no se cumpla ningúna de las condiciones"
   ]
  },
  {
   "cell_type": "code",
   "execution_count": 15,
   "metadata": {},
   "outputs": [
    {
     "name": "stdout",
     "output_type": "stream",
     "text": [
      "el valor está entre 3 y 4\n"
     ]
    }
   ],
   "source": [
    "# Ejemplo elif\n",
    "a=2\n",
    "b=1.5\n",
    "if a+b <= 3:\n",
    "    print(\"es menor que 3\")\n",
    "elif a+b < 4:\n",
    "    print(\"el valor está entre 3 y 4\")\n",
    "else:\n",
    "    print(\"el valor de la suma es mayor o igual a 4\")"
   ]
  },
  {
   "cell_type": "markdown",
   "metadata": {},
   "source": [
    "## Uso de numpy para matrices\n",
    "\n",
    "Numpy es un paquete que permite realizar diversas operaciones con elementos matemáticos, entre ellos, las matrices.\n",
    "Para usar numpy, es fundamental importarla cuando creemos un nuevo Notebook. Para esto la estructura es \n",
    "\n",
    "import numpy as np\n",
    "\n",
    "En este caso no solo importamos numpy sino que además lo renombramos como np."
   ]
  },
  {
   "cell_type": "code",
   "execution_count": 16,
   "metadata": {},
   "outputs": [],
   "source": [
    "import numpy as np"
   ]
  },
  {
   "cell_type": "code",
   "execution_count": 17,
   "metadata": {},
   "outputs": [
    {
     "name": "stdout",
     "output_type": "stream",
     "text": [
      "[[1 1]\n",
      " [0 1]]\n",
      "[[1 1 2]\n",
      " [0 1 0]]\n",
      "[[0. 0. 0.]\n",
      " [0. 0. 0.]]\n",
      "[[0. 0. 0.]\n",
      " [0. 0. 0.]]\n",
      "[[1. 0. 0.]\n",
      " [0. 1. 0.]\n",
      " [0. 0. 1.]]\n"
     ]
    }
   ],
   "source": [
    "#Creación de matrices\n",
    "\n",
    "A = np.array([[1, 1],\n",
    "              [0, 1]])\n",
    "print(A)\n",
    "B = np.array([[1, 1, 2],\n",
    "              [0, 1, 0]])\n",
    "\n",
    "print(B)\n",
    "\n",
    "# Creación de matrices de ceros\n",
    "\n",
    "C = np.zeros((2, 3))\n",
    "\n",
    "print(C)\n",
    "\n",
    "# Creación de matrices de unos\n",
    "\n",
    "D = np.ones((2, 3))\n",
    "\n",
    "print(C)\n",
    "\n",
    "# Creación de matrices identidad\n",
    "\n",
    "E = np.identity((3))\n",
    "\n",
    "print(E)\n"
   ]
  },
  {
   "cell_type": "code",
   "execution_count": 18,
   "metadata": {},
   "outputs": [
    {
     "name": "stdout",
     "output_type": "stream",
     "text": [
      "[[4 0]\n",
      " [0 3]]\n"
     ]
    }
   ],
   "source": [
    "# Suma (resta) de matrices\n",
    "\n",
    "A = np.array([[1, 1],\n",
    "              [0, 1]])\n",
    "\n",
    "B = np.array([[3, -1],\n",
    "              [0, 2]])\n",
    "\n",
    "C=A+B\n",
    "print(C)"
   ]
  },
  {
   "cell_type": "code",
   "execution_count": 19,
   "metadata": {},
   "outputs": [
    {
     "name": "stdout",
     "output_type": "stream",
     "text": [
      "[[3 1]\n",
      " [0 2]]\n"
     ]
    }
   ],
   "source": [
    "# Multiplicación (OJO, no sirve hacer A*B ya que esto provoca que se multipliquen los respectivos elementos y no la multiplicación matricial)\n",
    "\n",
    "C=np.matmul(A, B)\n",
    "print(C)"
   ]
  },
  {
   "cell_type": "markdown",
   "metadata": {},
   "source": [
    "### Matrices vacías\n",
    "\n",
    "En múltiples ocasiones deseamos usar matrices vacías a fin de luego llenarlas con elementos a través de operatoria. Para esto usaremos el comando numpy.empty, el cual permite generar una matriz vacía. Si bien la matriz está vacía, a veces Python asigna de forma aleatoria números ya que computacionalmente es mejor hacerlo de esta forma. Estos valores solo son un display y no se usan como parte de los cálculos.\n",
    "\n",
    "Una vez creada una matriz vacía, nos interesa llenarla con valores a través de operaciones. Para esto usamos los índices de las matrices. \n",
    "\n",
    "ES DE SUMA IMPORTANCIA RECORDAR QUE LOS ÍNDICES EN LAS PYTHON PARTEN DESDE EL 0 EN ADELANTE"
   ]
  },
  {
   "cell_type": "code",
   "execution_count": 20,
   "metadata": {},
   "outputs": [
    {
     "name": "stdout",
     "output_type": "stream",
     "text": [
      "[[ 1.  3.]\n",
      " [-5.  6.]]\n"
     ]
    }
   ],
   "source": [
    "# Creación de matriz vacía\n",
    "A=np.empty([2, 2])\n",
    "\n",
    "#llenado de elementos de forma individual\n",
    "A[0,0]=1\n",
    "A[0,1]=3\n",
    "A[1,0]=-5\n",
    "A[1,1]=6\n",
    "\n",
    "print(A)\n",
    "\n"
   ]
  },
  {
   "cell_type": "code",
   "execution_count": 21,
   "metadata": {},
   "outputs": [
    {
     "name": "stdout",
     "output_type": "stream",
     "text": [
      "[[8.43891345e-312 2.00000000e+000 0.00000000e+000 0.00000000e+000]\n",
      " [2.22809558e-312 2.00000000e+000 6.52918173e-042 7.25487150e+169]\n",
      " [1.87021880e-051 2.00000000e+000 3.05686714e-057 5.92638190e-062]]\n"
     ]
    }
   ],
   "source": [
    "#Es posible llenar directamente toda una fila o toda una columna, o bien toda la matriz usando la siguiente composición\n",
    "\n",
    "#Llenado de una columna\n",
    "B=np.empty([3, 4])\n",
    "B[:,1]=2\n",
    "print(B)"
   ]
  },
  {
   "cell_type": "code",
   "execution_count": 22,
   "metadata": {},
   "outputs": [
    {
     "name": "stdout",
     "output_type": "stream",
     "text": [
      "[[8.43891345e-312 2.00000000e+000 0.00000000e+000 0.00000000e+000]\n",
      " [2.22809558e-312 2.00000000e+000 6.52918173e-042 7.25487150e+169]\n",
      " [1.00000000e+000 1.00000000e+000 1.00000000e+000 1.00000000e+000]]\n"
     ]
    }
   ],
   "source": [
    "#Llenado de una fila\n",
    "B=np.empty([3, 4])\n",
    "B[2,:]=1\n",
    "print(B)\n"
   ]
  },
  {
   "cell_type": "code",
   "execution_count": 23,
   "metadata": {},
   "outputs": [
    {
     "name": "stdout",
     "output_type": "stream",
     "text": [
      "[[-1. -1. -1. -1.]\n",
      " [-1. -1. -1. -1.]\n",
      " [-1. -1. -1. -1.]]\n"
     ]
    }
   ],
   "source": [
    "#Llenado de toda la matriz\n",
    "B=np.empty([3, 4])\n",
    "B[:,:]=-1\n",
    "print(B)"
   ]
  },
  {
   "cell_type": "code",
   "execution_count": 24,
   "metadata": {},
   "outputs": [
    {
     "name": "stdout",
     "output_type": "stream",
     "text": [
      "[[3 4]\n",
      " [2 6]]\n",
      "6\n"
     ]
    }
   ],
   "source": [
    "# Es posible conocer valores, es decir, acceder a ellos.\n",
    "B=np.array([[3, 4],[2,6]])\n",
    "print(B)\n",
    "print(B[1,1])\n"
   ]
  },
  {
   "cell_type": "code",
   "execution_count": null,
   "id": "145dbd24",
   "metadata": {},
   "outputs": [],
   "source": []
  },
  {
   "cell_type": "code",
   "execution_count": null,
   "id": "e6503b7b",
   "metadata": {},
   "outputs": [],
   "source": []
  },
  {
   "cell_type": "code",
   "execution_count": null,
   "id": "be18927b",
   "metadata": {},
   "outputs": [],
   "source": []
  },
  {
   "cell_type": "code",
   "execution_count": null,
   "id": "af777c8d",
   "metadata": {},
   "outputs": [],
   "source": []
  },
  {
   "cell_type": "code",
   "execution_count": null,
   "id": "e826cbb3",
   "metadata": {},
   "outputs": [],
   "source": []
  },
  {
   "cell_type": "code",
   "execution_count": null,
   "id": "f8f1b5ce",
   "metadata": {},
   "outputs": [],
   "source": []
  },
  {
   "cell_type": "code",
   "execution_count": null,
   "id": "5bf5809f",
   "metadata": {},
   "outputs": [],
   "source": []
  },
  {
   "cell_type": "code",
   "execution_count": null,
   "id": "2d5548bf",
   "metadata": {},
   "outputs": [],
   "source": []
  },
  {
   "cell_type": "code",
   "execution_count": null,
   "id": "069d21c2",
   "metadata": {},
   "outputs": [],
   "source": []
  },
  {
   "cell_type": "code",
   "execution_count": null,
   "id": "1985e36f",
   "metadata": {},
   "outputs": [],
   "source": []
  },
  {
   "cell_type": "code",
   "execution_count": null,
   "id": "a09a9c76",
   "metadata": {},
   "outputs": [],
   "source": []
  },
  {
   "cell_type": "code",
   "execution_count": null,
   "id": "5021f9b8",
   "metadata": {},
   "outputs": [],
   "source": []
  },
  {
   "cell_type": "code",
   "execution_count": null,
   "id": "7088b545",
   "metadata": {},
   "outputs": [],
   "source": []
  },
  {
   "cell_type": "code",
   "execution_count": null,
   "id": "129de972",
   "metadata": {},
   "outputs": [],
   "source": []
  },
  {
   "cell_type": "code",
   "execution_count": null,
   "id": "5bd8b8cd",
   "metadata": {},
   "outputs": [],
   "source": []
  },
  {
   "cell_type": "code",
   "execution_count": null,
   "id": "772d3648",
   "metadata": {},
   "outputs": [],
   "source": []
  },
  {
   "cell_type": "code",
   "execution_count": null,
   "id": "6d690b3d",
   "metadata": {},
   "outputs": [],
   "source": []
  },
  {
   "cell_type": "code",
   "execution_count": null,
   "id": "5e91e127",
   "metadata": {},
   "outputs": [],
   "source": []
  },
  {
   "cell_type": "code",
   "execution_count": null,
   "id": "d49cfd69",
   "metadata": {},
   "outputs": [],
   "source": []
  },
  {
   "cell_type": "code",
   "execution_count": null,
   "id": "a18856c0",
   "metadata": {},
   "outputs": [],
   "source": []
  },
  {
   "cell_type": "code",
   "execution_count": null,
   "id": "83d56473",
   "metadata": {},
   "outputs": [],
   "source": []
  },
  {
   "cell_type": "code",
   "execution_count": null,
   "id": "abc15a22",
   "metadata": {},
   "outputs": [],
   "source": []
  },
  {
   "cell_type": "code",
   "execution_count": null,
   "id": "42349fad",
   "metadata": {},
   "outputs": [],
   "source": []
  }
 ],
 "metadata": {
  "kernelspec": {
   "display_name": "Python 3.10.3 64-bit",
   "language": "python",
   "name": "python3"
  },
  "language_info": {
   "codemirror_mode": {
    "name": "ipython",
    "version": 3
   },
   "file_extension": ".py",
   "mimetype": "text/x-python",
   "name": "python",
   "nbconvert_exporter": "python",
   "pygments_lexer": "ipython3",
   "version": "3.10.3"
  },
  "vscode": {
   "interpreter": {
    "hash": "693833a0fc7c056f1ca5189d21d883b455cc93586644e182fabbdbc239f3db61"
   }
  }
 },
 "nbformat": 4,
 "nbformat_minor": 5
}
